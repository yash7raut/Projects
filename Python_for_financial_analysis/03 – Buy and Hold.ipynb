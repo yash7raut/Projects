{
 "cells": [
  {
   "cell_type": "markdown",
   "metadata": {},
   "source": [
    "Evaluate the Buy-and-hold strategy Warren Buffett proposes\n",
    "How to calculate the CAGR – the Compound Annual Growth Rate – and what it is"
   ]
  },
  {
   "cell_type": "code",
   "execution_count": 1,
   "metadata": {},
   "outputs": [],
   "source": [
    "import pandas as pd\n",
    "import datetime as dt\n",
    "import pandas_datareader as pdr\n",
    "import matplotlib.pyplot as plt\n",
    "%matplotlib inline"
   ]
  },
  {
   "cell_type": "code",
   "execution_count": 2,
   "metadata": {},
   "outputs": [],
   "source": [
    "start = dt.datetime(1999,1,1)\n",
    "sensex = pdr.get_data_yahoo(\"^BSESN\",start)"
   ]
  },
  {
   "cell_type": "code",
   "execution_count": 3,
   "metadata": {},
   "outputs": [
    {
     "data": {
      "text/html": [
       "<div>\n",
       "<style scoped>\n",
       "    .dataframe tbody tr th:only-of-type {\n",
       "        vertical-align: middle;\n",
       "    }\n",
       "\n",
       "    .dataframe tbody tr th {\n",
       "        vertical-align: top;\n",
       "    }\n",
       "\n",
       "    .dataframe thead th {\n",
       "        text-align: right;\n",
       "    }\n",
       "</style>\n",
       "<table border=\"1\" class=\"dataframe\">\n",
       "  <thead>\n",
       "    <tr style=\"text-align: right;\">\n",
       "      <th></th>\n",
       "      <th>High</th>\n",
       "      <th>Low</th>\n",
       "      <th>Open</th>\n",
       "      <th>Close</th>\n",
       "      <th>Volume</th>\n",
       "      <th>Adj Close</th>\n",
       "    </tr>\n",
       "    <tr>\n",
       "      <th>Date</th>\n",
       "      <th></th>\n",
       "      <th></th>\n",
       "      <th></th>\n",
       "      <th></th>\n",
       "      <th></th>\n",
       "      <th></th>\n",
       "    </tr>\n",
       "  </thead>\n",
       "  <tbody>\n",
       "    <tr>\n",
       "      <th>1999-01-04</th>\n",
       "      <td>3148.070068</td>\n",
       "      <td>3113.620117</td>\n",
       "      <td>3113.620117</td>\n",
       "      <td>3122.040039</td>\n",
       "      <td>0.0</td>\n",
       "      <td>3122.040039</td>\n",
       "    </tr>\n",
       "    <tr>\n",
       "      <th>1999-01-05</th>\n",
       "      <td>3150.310059</td>\n",
       "      <td>3103.620117</td>\n",
       "      <td>3129.580078</td>\n",
       "      <td>3149.060059</td>\n",
       "      <td>0.0</td>\n",
       "      <td>3149.060059</td>\n",
       "    </tr>\n",
       "    <tr>\n",
       "      <th>1999-01-06</th>\n",
       "      <td>3214.360107</td>\n",
       "      <td>3152.939941</td>\n",
       "      <td>3172.310059</td>\n",
       "      <td>3205.679932</td>\n",
       "      <td>0.0</td>\n",
       "      <td>3205.679932</td>\n",
       "    </tr>\n",
       "    <tr>\n",
       "      <th>1999-01-07</th>\n",
       "      <td>3321.469971</td>\n",
       "      <td>3239.649902</td>\n",
       "      <td>3239.850098</td>\n",
       "      <td>3299.090088</td>\n",
       "      <td>0.0</td>\n",
       "      <td>3299.090088</td>\n",
       "    </tr>\n",
       "    <tr>\n",
       "      <th>1999-01-08</th>\n",
       "      <td>3400.969971</td>\n",
       "      <td>3340.510010</td>\n",
       "      <td>3356.189941</td>\n",
       "      <td>3397.840088</td>\n",
       "      <td>0.0</td>\n",
       "      <td>3397.840088</td>\n",
       "    </tr>\n",
       "  </tbody>\n",
       "</table>\n",
       "</div>"
      ],
      "text/plain": [
       "                   High          Low         Open        Close  Volume  \\\n",
       "Date                                                                     \n",
       "1999-01-04  3148.070068  3113.620117  3113.620117  3122.040039     0.0   \n",
       "1999-01-05  3150.310059  3103.620117  3129.580078  3149.060059     0.0   \n",
       "1999-01-06  3214.360107  3152.939941  3172.310059  3205.679932     0.0   \n",
       "1999-01-07  3321.469971  3239.649902  3239.850098  3299.090088     0.0   \n",
       "1999-01-08  3400.969971  3340.510010  3356.189941  3397.840088     0.0   \n",
       "\n",
       "              Adj Close  \n",
       "Date                     \n",
       "1999-01-04  3122.040039  \n",
       "1999-01-05  3149.060059  \n",
       "1999-01-06  3205.679932  \n",
       "1999-01-07  3299.090088  \n",
       "1999-01-08  3397.840088  "
      ]
     },
     "execution_count": 3,
     "metadata": {},
     "output_type": "execute_result"
    }
   ],
   "source": [
    "sensex.head()"
   ]
  },
  {
   "cell_type": "code",
   "execution_count": 4,
   "metadata": {},
   "outputs": [
    {
     "data": {
      "text/html": [
       "<div>\n",
       "<style scoped>\n",
       "    .dataframe tbody tr th:only-of-type {\n",
       "        vertical-align: middle;\n",
       "    }\n",
       "\n",
       "    .dataframe tbody tr th {\n",
       "        vertical-align: top;\n",
       "    }\n",
       "\n",
       "    .dataframe thead th {\n",
       "        text-align: right;\n",
       "    }\n",
       "</style>\n",
       "<table border=\"1\" class=\"dataframe\">\n",
       "  <thead>\n",
       "    <tr style=\"text-align: right;\">\n",
       "      <th></th>\n",
       "      <th>High</th>\n",
       "      <th>Low</th>\n",
       "      <th>Open</th>\n",
       "      <th>Close</th>\n",
       "      <th>Volume</th>\n",
       "      <th>Adj Close</th>\n",
       "    </tr>\n",
       "    <tr>\n",
       "      <th>Date</th>\n",
       "      <th></th>\n",
       "      <th></th>\n",
       "      <th></th>\n",
       "      <th></th>\n",
       "      <th></th>\n",
       "      <th></th>\n",
       "    </tr>\n",
       "  </thead>\n",
       "  <tbody>\n",
       "    <tr>\n",
       "      <th>2022-03-09</th>\n",
       "      <td>54893.730469</td>\n",
       "      <td>53367.519531</td>\n",
       "      <td>53793.988281</td>\n",
       "      <td>54647.328125</td>\n",
       "      <td>14100.0</td>\n",
       "      <td>54647.328125</td>\n",
       "    </tr>\n",
       "    <tr>\n",
       "      <th>2022-03-10</th>\n",
       "      <td>56242.468750</td>\n",
       "      <td>54982.820312</td>\n",
       "      <td>56242.468750</td>\n",
       "      <td>55464.390625</td>\n",
       "      <td>9800.0</td>\n",
       "      <td>55464.390625</td>\n",
       "    </tr>\n",
       "    <tr>\n",
       "      <th>2022-03-11</th>\n",
       "      <td>55833.949219</td>\n",
       "      <td>55049.949219</td>\n",
       "      <td>55218.781250</td>\n",
       "      <td>55550.300781</td>\n",
       "      <td>9700.0</td>\n",
       "      <td>55550.300781</td>\n",
       "    </tr>\n",
       "    <tr>\n",
       "      <th>2022-03-14</th>\n",
       "      <td>56545.828125</td>\n",
       "      <td>55556.468750</td>\n",
       "      <td>55614.398438</td>\n",
       "      <td>56486.019531</td>\n",
       "      <td>9100.0</td>\n",
       "      <td>56486.019531</td>\n",
       "    </tr>\n",
       "    <tr>\n",
       "      <th>2022-03-14</th>\n",
       "      <td>56545.828125</td>\n",
       "      <td>55556.468750</td>\n",
       "      <td>55614.398438</td>\n",
       "      <td>56486.019531</td>\n",
       "      <td>0.0</td>\n",
       "      <td>56486.019531</td>\n",
       "    </tr>\n",
       "  </tbody>\n",
       "</table>\n",
       "</div>"
      ],
      "text/plain": [
       "                    High           Low          Open         Close   Volume  \\\n",
       "Date                                                                          \n",
       "2022-03-09  54893.730469  53367.519531  53793.988281  54647.328125  14100.0   \n",
       "2022-03-10  56242.468750  54982.820312  56242.468750  55464.390625   9800.0   \n",
       "2022-03-11  55833.949219  55049.949219  55218.781250  55550.300781   9700.0   \n",
       "2022-03-14  56545.828125  55556.468750  55614.398438  56486.019531   9100.0   \n",
       "2022-03-14  56545.828125  55556.468750  55614.398438  56486.019531      0.0   \n",
       "\n",
       "               Adj Close  \n",
       "Date                      \n",
       "2022-03-09  54647.328125  \n",
       "2022-03-10  55464.390625  \n",
       "2022-03-11  55550.300781  \n",
       "2022-03-14  56486.019531  \n",
       "2022-03-14  56486.019531  "
      ]
     },
     "execution_count": 4,
     "metadata": {},
     "output_type": "execute_result"
    }
   ],
   "source": [
    "sensex.tail()"
   ]
  },
  {
   "cell_type": "code",
   "execution_count": 5,
   "metadata": {},
   "outputs": [
    {
     "data": {
      "text/plain": [
       "<matplotlib.axes._subplots.AxesSubplot at 0x16d2feb0c48>"
      ]
     },
     "execution_count": 5,
     "metadata": {},
     "output_type": "execute_result"
    },
    {
     "data": {
      "image/png": "[encoded data removed]",
      "text/plain": [
       "<Figure size 432x288 with 1 Axes>"
      ]
     },
     "metadata": {
      "needs_background": "light"
     },
     "output_type": "display_data"
    }
   ],
   "source": [
    "fig,ax = plt.subplots()\n",
    "sensex['Close'].plot(ax=ax)"
   ]
  },
  {
   "cell_type": "markdown",
   "metadata": {},
   "source": [
    "The lost decade"
   ]
  },
  {
   "cell_type": "markdown",
   "metadata": {},
   "source": [
    "The years 1999 to 2009 are considered the “lost decade” of Sensex"
   ]
  },
  {
   "cell_type": "code",
   "execution_count": 6,
   "metadata": {},
   "outputs": [
    {
     "data": {
      "text/html": [
       "<div>\n",
       "<style scoped>\n",
       "    .dataframe tbody tr th:only-of-type {\n",
       "        vertical-align: middle;\n",
       "    }\n",
       "\n",
       "    .dataframe tbody tr th {\n",
       "        vertical-align: top;\n",
       "    }\n",
       "\n",
       "    .dataframe thead th {\n",
       "        text-align: right;\n",
       "    }\n",
       "</style>\n",
       "<table border=\"1\" class=\"dataframe\">\n",
       "  <thead>\n",
       "    <tr style=\"text-align: right;\">\n",
       "      <th></th>\n",
       "      <th>High</th>\n",
       "      <th>Low</th>\n",
       "      <th>Open</th>\n",
       "      <th>Close</th>\n",
       "      <th>Volume</th>\n",
       "      <th>Adj Close</th>\n",
       "    </tr>\n",
       "    <tr>\n",
       "      <th>Date</th>\n",
       "      <th></th>\n",
       "      <th></th>\n",
       "      <th></th>\n",
       "      <th></th>\n",
       "      <th></th>\n",
       "      <th></th>\n",
       "    </tr>\n",
       "  </thead>\n",
       "  <tbody>\n",
       "    <tr>\n",
       "      <th>2009-01-02</th>\n",
       "      <td>10070.280273</td>\n",
       "      <td>9863.860352</td>\n",
       "      <td>9973.059570</td>\n",
       "      <td>9958.219727</td>\n",
       "      <td>51600.0</td>\n",
       "      <td>9958.219727</td>\n",
       "    </tr>\n",
       "    <tr>\n",
       "      <th>2009-01-05</th>\n",
       "      <td>10306.169922</td>\n",
       "      <td>10069.110352</td>\n",
       "      <td>10124.919922</td>\n",
       "      <td>10275.599609</td>\n",
       "      <td>51200.0</td>\n",
       "      <td>10275.599609</td>\n",
       "    </tr>\n",
       "    <tr>\n",
       "      <th>2009-01-06</th>\n",
       "      <td>10392.120117</td>\n",
       "      <td>10150.679688</td>\n",
       "      <td>10241.509766</td>\n",
       "      <td>10335.929688</td>\n",
       "      <td>55600.0</td>\n",
       "      <td>10335.929688</td>\n",
       "    </tr>\n",
       "    <tr>\n",
       "      <th>2009-01-07</th>\n",
       "      <td>10469.719727</td>\n",
       "      <td>9510.150391</td>\n",
       "      <td>10424.959961</td>\n",
       "      <td>9586.879883</td>\n",
       "      <td>217600.0</td>\n",
       "      <td>9586.879883</td>\n",
       "    </tr>\n",
       "    <tr>\n",
       "      <th>2009-01-09</th>\n",
       "      <td>9630.400391</td>\n",
       "      <td>9250.820312</td>\n",
       "      <td>9434.849609</td>\n",
       "      <td>9406.469727</td>\n",
       "      <td>158200.0</td>\n",
       "      <td>9406.469727</td>\n",
       "    </tr>\n",
       "  </tbody>\n",
       "</table>\n",
       "</div>"
      ],
      "text/plain": [
       "                    High           Low          Open         Close    Volume  \\\n",
       "Date                                                                           \n",
       "2009-01-02  10070.280273   9863.860352   9973.059570   9958.219727   51600.0   \n",
       "2009-01-05  10306.169922  10069.110352  10124.919922  10275.599609   51200.0   \n",
       "2009-01-06  10392.120117  10150.679688  10241.509766  10335.929688   55600.0   \n",
       "2009-01-07  10469.719727   9510.150391  10424.959961   9586.879883  217600.0   \n",
       "2009-01-09   9630.400391   9250.820312   9434.849609   9406.469727  158200.0   \n",
       "\n",
       "               Adj Close  \n",
       "Date                      \n",
       "2009-01-02   9958.219727  \n",
       "2009-01-05  10275.599609  \n",
       "2009-01-06  10335.929688  \n",
       "2009-01-07   9586.879883  \n",
       "2009-01-09   9406.469727  "
      ]
     },
     "execution_count": 6,
     "metadata": {},
     "output_type": "execute_result"
    }
   ],
   "source": [
    "sensex['2009'].head()"
   ]
  },
  {
   "cell_type": "code",
   "execution_count": 7,
   "metadata": {},
   "outputs": [
    {
     "data": {
      "text/html": [
       "<div>\n",
       "<style scoped>\n",
       "    .dataframe tbody tr th:only-of-type {\n",
       "        vertical-align: middle;\n",
       "    }\n",
       "\n",
       "    .dataframe tbody tr th {\n",
       "        vertical-align: top;\n",
       "    }\n",
       "\n",
       "    .dataframe thead th {\n",
       "        text-align: right;\n",
       "    }\n",
       "</style>\n",
       "<table border=\"1\" class=\"dataframe\">\n",
       "  <thead>\n",
       "    <tr style=\"text-align: right;\">\n",
       "      <th></th>\n",
       "      <th>High</th>\n",
       "      <th>Low</th>\n",
       "      <th>Open</th>\n",
       "      <th>Close</th>\n",
       "      <th>Volume</th>\n",
       "      <th>Adj Close</th>\n",
       "    </tr>\n",
       "    <tr>\n",
       "      <th>Date</th>\n",
       "      <th></th>\n",
       "      <th></th>\n",
       "      <th></th>\n",
       "      <th></th>\n",
       "      <th></th>\n",
       "      <th></th>\n",
       "    </tr>\n",
       "  </thead>\n",
       "  <tbody>\n",
       "    <tr>\n",
       "      <th>1999-01-04</th>\n",
       "      <td>3148.070068</td>\n",
       "      <td>3113.620117</td>\n",
       "      <td>3113.620117</td>\n",
       "      <td>3122.040039</td>\n",
       "      <td>0.0</td>\n",
       "      <td>3122.040039</td>\n",
       "    </tr>\n",
       "    <tr>\n",
       "      <th>1999-01-05</th>\n",
       "      <td>3150.310059</td>\n",
       "      <td>3103.620117</td>\n",
       "      <td>3129.580078</td>\n",
       "      <td>3149.060059</td>\n",
       "      <td>0.0</td>\n",
       "      <td>3149.060059</td>\n",
       "    </tr>\n",
       "    <tr>\n",
       "      <th>1999-01-06</th>\n",
       "      <td>3214.360107</td>\n",
       "      <td>3152.939941</td>\n",
       "      <td>3172.310059</td>\n",
       "      <td>3205.679932</td>\n",
       "      <td>0.0</td>\n",
       "      <td>3205.679932</td>\n",
       "    </tr>\n",
       "    <tr>\n",
       "      <th>1999-01-07</th>\n",
       "      <td>3321.469971</td>\n",
       "      <td>3239.649902</td>\n",
       "      <td>3239.850098</td>\n",
       "      <td>3299.090088</td>\n",
       "      <td>0.0</td>\n",
       "      <td>3299.090088</td>\n",
       "    </tr>\n",
       "    <tr>\n",
       "      <th>1999-01-08</th>\n",
       "      <td>3400.969971</td>\n",
       "      <td>3340.510010</td>\n",
       "      <td>3356.189941</td>\n",
       "      <td>3397.840088</td>\n",
       "      <td>0.0</td>\n",
       "      <td>3397.840088</td>\n",
       "    </tr>\n",
       "  </tbody>\n",
       "</table>\n",
       "</div>"
      ],
      "text/plain": [
       "                   High          Low         Open        Close  Volume  \\\n",
       "Date                                                                     \n",
       "1999-01-04  3148.070068  3113.620117  3113.620117  3122.040039     0.0   \n",
       "1999-01-05  3150.310059  3103.620117  3129.580078  3149.060059     0.0   \n",
       "1999-01-06  3214.360107  3152.939941  3172.310059  3205.679932     0.0   \n",
       "1999-01-07  3321.469971  3239.649902  3239.850098  3299.090088     0.0   \n",
       "1999-01-08  3400.969971  3340.510010  3356.189941  3397.840088     0.0   \n",
       "\n",
       "              Adj Close  \n",
       "Date                     \n",
       "1999-01-04  3122.040039  \n",
       "1999-01-05  3149.060059  \n",
       "1999-01-06  3205.679932  \n",
       "1999-01-07  3299.090088  \n",
       "1999-01-08  3397.840088  "
      ]
     },
     "execution_count": 7,
     "metadata": {},
     "output_type": "execute_result"
    }
   ],
   "source": [
    "sensex['1999'].head()"
   ]
  },
  {
   "cell_type": "code",
   "execution_count": 8,
   "metadata": {},
   "outputs": [
    {
     "data": {
      "text/plain": [
       "<matplotlib.axes._subplots.AxesSubplot at 0x16d2fab9148>"
      ]
     },
     "execution_count": 8,
     "metadata": {},
     "output_type": "execute_result"
    },
    {
     "data": {
      "image/png": "[encoded data removed]",
      "text/plain": [
       "<Figure size 432x288 with 1 Axes>"
      ]
     },
     "metadata": {
      "needs_background": "light"
     },
     "output_type": "display_data"
    }
   ],
   "source": [
    "fig, ax = plt.subplots()\n",
    "sensex['Close'].loc[:'2009-01-01'].plot()\n"
   ]
  },
  {
   "cell_type": "markdown",
   "metadata": {},
   "source": [
    "Very less growth in the decade from 1999 to 2009\n",
    "\n",
    "The key learning is that long run means at least more than 10 years."
   ]
  },
  {
   "cell_type": "markdown",
   "metadata": {},
   "source": [
    "Calculate the CAGR for Sensex\n"
   ]
  },
  {
   "cell_type": "code",
   "execution_count": 9,
   "metadata": {},
   "outputs": [],
   "source": [
    "data = sensex['Close'].loc['1999':'2008']"
   ]
  },
  {
   "cell_type": "code",
   "execution_count": 10,
   "metadata": {},
   "outputs": [],
   "source": [
    "total_return = data.iloc[-1]/data.iloc[0]"
   ]
  },
  {
   "cell_type": "code",
   "execution_count": 11,
   "metadata": {},
   "outputs": [
    {
     "data": {
      "text/plain": [
       "3.0900659343271704"
      ]
     },
     "execution_count": 11,
     "metadata": {},
     "output_type": "execute_result"
    }
   ],
   "source": [
    "total_return"
   ]
  },
  {
   "cell_type": "markdown",
   "metadata": {},
   "source": [
    "This means that we made money. We made 1 + 3.09 = 4.09 or 4.09%"
   ]
  },
  {
   "cell_type": "code",
   "execution_count": 12,
   "metadata": {},
   "outputs": [
    {
     "data": {
      "text/plain": [
       "0.11942956977819574"
      ]
     },
     "execution_count": 12,
     "metadata": {},
     "output_type": "execute_result"
    }
   ],
   "source": [
    "(data.iloc[-1]/data.iloc[0])**(1/10) - 1"
   ]
  },
  {
   "cell_type": "markdown",
   "metadata": {},
   "source": [
    "That is a gain of 11% per year"
   ]
  },
  {
   "cell_type": "markdown",
   "metadata": {},
   "source": [
    "If I in 1999 invested all my money in a low-cost fund tracking the Sensex, I would gain 11% per year or 4% in total gain over the next 10 years."
   ]
  },
  {
   "cell_type": "markdown",
   "metadata": {},
   "source": [
    "Project – Calculate the CAGR and Maximum Drawdown of sensex from 2011 to current date."
   ]
  },
  {
   "cell_type": "code",
   "execution_count": 13,
   "metadata": {},
   "outputs": [],
   "source": [
    "data = sensex['Close'].loc['2011':]"
   ]
  },
  {
   "cell_type": "code",
   "execution_count": 15,
   "metadata": {},
   "outputs": [
    {
     "data": {
      "text/plain": [
       "Date\n",
       "2011-01-03    20561.050781\n",
       "2011-01-04    20498.720703\n",
       "2011-01-05    20301.099609\n",
       "2011-01-06    20184.740234\n",
       "2011-01-07    19691.810547\n",
       "Name: Close, dtype: float64"
      ]
     },
     "execution_count": 15,
     "metadata": {},
     "output_type": "execute_result"
    }
   ],
   "source": [
    "data.head()"
   ]
  },
  {
   "cell_type": "code",
   "execution_count": 14,
   "metadata": {},
   "outputs": [
    {
     "data": {
      "text/plain": [
       "Date\n",
       "2022-03-09    54647.328125\n",
       "2022-03-10    55464.390625\n",
       "2022-03-11    55550.300781\n",
       "2022-03-14    56486.019531\n",
       "2022-03-14    56486.019531\n",
       "Name: Close, dtype: float64"
      ]
     },
     "execution_count": 14,
     "metadata": {},
     "output_type": "execute_result"
    }
   ],
   "source": [
    "data.tail()"
   ]
  },
  {
   "cell_type": "markdown",
   "metadata": {},
   "source": [
    "We calculate the CAGR for the period of 11 years."
   ]
  },
  {
   "cell_type": "code",
   "execution_count": 16,
   "metadata": {},
   "outputs": [
    {
     "data": {
      "text/plain": [
       "0.09622475729502633"
      ]
     },
     "execution_count": 16,
     "metadata": {},
     "output_type": "execute_result"
    }
   ],
   "source": [
    "(data.iloc[-1]/data.iloc[0])**(1/11)-1"
   ]
  },
  {
   "cell_type": "markdown",
   "metadata": {},
   "source": [
    "That looks better. A 9% annual return for the period of 11 years."
   ]
  },
  {
   "cell_type": "markdown",
   "metadata": {},
   "source": [
    "“A maximum drawdown (MDD) is the maximum observed loss from a peak to a trough of a portfolio, before a new peak is attained. Maximum drawdown is an indicator of downside risk over a specified time period.” – Investopedia.org"
   ]
  },
  {
   "cell_type": "markdown",
   "metadata": {},
   "source": [
    "We calculate the maximum drawdown."
   ]
  },
  {
   "cell_type": "code",
   "execution_count": 17,
   "metadata": {},
   "outputs": [
    {
     "data": {
      "text/plain": [
       "-0.3807005445967564"
      ]
     },
     "execution_count": 17,
     "metadata": {},
     "output_type": "execute_result"
    }
   ],
   "source": [
    "rolling_max = data.cummax()\n",
    "daily_drawdown = data/rolling_max - 1\n",
    "max_drawdown = daily_drawdown.cummin().iloc[-1]\n",
    "max_drawdown"
   ]
  },
  {
   "cell_type": "markdown",
   "metadata": {},
   "source": [
    "That is a maximum drawdown on 38.07% for the period of 11 years."
   ]
  }
 ],
 "metadata": {
  "interpreter": {
   "hash": "1e915f0a29dc84041eaeb02b7b1a21c440e37a87b61d44d5e84a515737dc82bc"
  },
  "kernelspec": {
   "display_name": "Python 3.7.6 64-bit ('base': conda)",
   "name": "python3"
  },
  "language_info": {
   "codemirror_mode": {
    "name": "ipython",
    "version": 3
   },
   "file_extension": ".py",
   "mimetype": "text/x-python",
   "name": "python",
   "nbconvert_exporter": "python",
   "pygments_lexer": "ipython3",
   "version": "3.7.6"
  },
  "orig_nbformat": 4
 },
 "nbformat": 4,
 "nbformat_minor": 2
}
