{
 "cells": [
  {
   "cell_type": "markdown",
   "metadata": {},
   "source": [
    "The strategy will use the simple moving average (MA) of 200 days. When the current market price of SPY is above MA we go long (buy and hold SPY), when the current market price of SPY is below MA, we short and buy and hold TLT."
   ]
  },
  {
   "cell_type": "markdown",
   "metadata": {},
   "source": [
    "On a high level, we either have all our holding in SPY or in TLT. This means, at all times during the strategy we will either have 100% in SPY or 100% in TLT."
   ]
  },
  {
   "cell_type": "code",
   "execution_count": 1,
   "metadata": {},
   "outputs": [],
   "source": [
    "import pandas_datareader as pdr\n",
    "import datetime as dt\n",
    "import pandas as pd\n",
    "import numpy as np\n",
    "import matplotlib.pyplot as plt\n",
    "%matplotlib inline"
   ]
  },
  {
   "cell_type": "code",
   "execution_count": 2,
   "metadata": {},
   "outputs": [],
   "source": [
    "tickers = ['SPY','TLT']\n",
    "start = dt.datetime(2007,1,1)\n",
    "#end = dt.datetime(2017,12,31)\n",
    "data = pdr.get_data_yahoo(tickers,start)"
   ]
  },
  {
   "cell_type": "code",
   "execution_count": 3,
   "metadata": {},
   "outputs": [
    {
     "data": {
      "text/html": [
       "<div>\n",
       "<style scoped>\n",
       "    .dataframe tbody tr th:only-of-type {\n",
       "        vertical-align: middle;\n",
       "    }\n",
       "\n",
       "    .dataframe tbody tr th {\n",
       "        vertical-align: top;\n",
       "    }\n",
       "\n",
       "    .dataframe thead tr th {\n",
       "        text-align: left;\n",
       "    }\n",
       "\n",
       "    .dataframe thead tr:last-of-type th {\n",
       "        text-align: right;\n",
       "    }\n",
       "</style>\n",
       "<table border=\"1\" class=\"dataframe\">\n",
       "  <thead>\n",
       "    <tr>\n",
       "      <th>Attributes</th>\n",
       "      <th colspan=\"2\" halign=\"left\">Adj Close</th>\n",
       "      <th colspan=\"2\" halign=\"left\">Close</th>\n",
       "      <th colspan=\"2\" halign=\"left\">High</th>\n",
       "      <th colspan=\"2\" halign=\"left\">Low</th>\n",
       "      <th colspan=\"2\" halign=\"left\">Open</th>\n",
       "      <th colspan=\"2\" halign=\"left\">Volume</th>\n",
       "    </tr>\n",
       "    <tr>\n",
       "      <th>Symbols</th>\n",
       "      <th>SPY</th>\n",
       "      <th>TLT</th>\n",
       "      <th>SPY</th>\n",
       "      <th>TLT</th>\n",
       "      <th>SPY</th>\n",
       "      <th>TLT</th>\n",
       "      <th>SPY</th>\n",
       "      <th>TLT</th>\n",
       "      <th>SPY</th>\n",
       "      <th>TLT</th>\n",
       "      <th>SPY</th>\n",
       "      <th>TLT</th>\n",
       "    </tr>\n",
       "    <tr>\n",
       "      <th>Date</th>\n",
       "      <th></th>\n",
       "      <th></th>\n",
       "      <th></th>\n",
       "      <th></th>\n",
       "      <th></th>\n",
       "      <th></th>\n",
       "      <th></th>\n",
       "      <th></th>\n",
       "      <th></th>\n",
       "      <th></th>\n",
       "      <th></th>\n",
       "      <th></th>\n",
       "    </tr>\n",
       "  </thead>\n",
       "  <tbody>\n",
       "    <tr>\n",
       "      <th>2007-01-03</th>\n",
       "      <td>104.752144</td>\n",
       "      <td>56.882164</td>\n",
       "      <td>141.369995</td>\n",
       "      <td>89.059998</td>\n",
       "      <td>142.860001</td>\n",
       "      <td>89.459999</td>\n",
       "      <td>140.570007</td>\n",
       "      <td>88.660004</td>\n",
       "      <td>142.250000</td>\n",
       "      <td>89.220001</td>\n",
       "      <td>94807600.0</td>\n",
       "      <td>1870400.0</td>\n",
       "    </tr>\n",
       "    <tr>\n",
       "      <th>2007-01-04</th>\n",
       "      <td>104.974457</td>\n",
       "      <td>57.227081</td>\n",
       "      <td>141.669998</td>\n",
       "      <td>89.599998</td>\n",
       "      <td>142.050003</td>\n",
       "      <td>89.650002</td>\n",
       "      <td>140.610001</td>\n",
       "      <td>89.220001</td>\n",
       "      <td>141.229996</td>\n",
       "      <td>89.220001</td>\n",
       "      <td>69620600.0</td>\n",
       "      <td>1697000.0</td>\n",
       "    </tr>\n",
       "    <tr>\n",
       "      <th>2007-01-05</th>\n",
       "      <td>104.137146</td>\n",
       "      <td>56.977924</td>\n",
       "      <td>140.539993</td>\n",
       "      <td>89.209999</td>\n",
       "      <td>141.399994</td>\n",
       "      <td>89.400002</td>\n",
       "      <td>140.380005</td>\n",
       "      <td>88.750000</td>\n",
       "      <td>141.330002</td>\n",
       "      <td>88.800003</td>\n",
       "      <td>76645300.0</td>\n",
       "      <td>1298400.0</td>\n",
       "    </tr>\n",
       "    <tr>\n",
       "      <th>2007-01-08</th>\n",
       "      <td>104.618744</td>\n",
       "      <td>57.080166</td>\n",
       "      <td>141.190002</td>\n",
       "      <td>89.370003</td>\n",
       "      <td>141.410004</td>\n",
       "      <td>89.370003</td>\n",
       "      <td>140.250000</td>\n",
       "      <td>89.050003</td>\n",
       "      <td>140.820007</td>\n",
       "      <td>89.120003</td>\n",
       "      <td>71655000.0</td>\n",
       "      <td>414200.0</td>\n",
       "    </tr>\n",
       "    <tr>\n",
       "      <th>2007-01-09</th>\n",
       "      <td>104.529877</td>\n",
       "      <td>57.080166</td>\n",
       "      <td>141.070007</td>\n",
       "      <td>89.370003</td>\n",
       "      <td>141.600006</td>\n",
       "      <td>89.480003</td>\n",
       "      <td>140.399994</td>\n",
       "      <td>89.220001</td>\n",
       "      <td>141.309998</td>\n",
       "      <td>89.480003</td>\n",
       "      <td>75680100.0</td>\n",
       "      <td>481500.0</td>\n",
       "    </tr>\n",
       "  </tbody>\n",
       "</table>\n",
       "</div>"
      ],
      "text/plain": [
       "Attributes   Adj Close                  Close                   High  \\\n",
       "Symbols            SPY        TLT         SPY        TLT         SPY   \n",
       "Date                                                                   \n",
       "2007-01-03  104.752144  56.882164  141.369995  89.059998  142.860001   \n",
       "2007-01-04  104.974457  57.227081  141.669998  89.599998  142.050003   \n",
       "2007-01-05  104.137146  56.977924  140.539993  89.209999  141.399994   \n",
       "2007-01-08  104.618744  57.080166  141.190002  89.370003  141.410004   \n",
       "2007-01-09  104.529877  57.080166  141.070007  89.370003  141.600006   \n",
       "\n",
       "Attributes                    Low                   Open             \\\n",
       "Symbols           TLT         SPY        TLT         SPY        TLT   \n",
       "Date                                                                  \n",
       "2007-01-03  89.459999  140.570007  88.660004  142.250000  89.220001   \n",
       "2007-01-04  89.650002  140.610001  89.220001  141.229996  89.220001   \n",
       "2007-01-05  89.400002  140.380005  88.750000  141.330002  88.800003   \n",
       "2007-01-08  89.370003  140.250000  89.050003  140.820007  89.120003   \n",
       "2007-01-09  89.480003  140.399994  89.220001  141.309998  89.480003   \n",
       "\n",
       "Attributes      Volume             \n",
       "Symbols            SPY        TLT  \n",
       "Date                               \n",
       "2007-01-03  94807600.0  1870400.0  \n",
       "2007-01-04  69620600.0  1697000.0  \n",
       "2007-01-05  76645300.0  1298400.0  \n",
       "2007-01-08  71655000.0   414200.0  \n",
       "2007-01-09  75680100.0   481500.0  "
      ]
     },
     "execution_count": 3,
     "metadata": {},
     "output_type": "execute_result"
    }
   ],
   "source": [
    "data.head()"
   ]
  },
  {
   "cell_type": "code",
   "execution_count": 4,
   "metadata": {},
   "outputs": [
    {
     "data": {
      "text/html": [
       "<div>\n",
       "<style scoped>\n",
       "    .dataframe tbody tr th:only-of-type {\n",
       "        vertical-align: middle;\n",
       "    }\n",
       "\n",
       "    .dataframe tbody tr th {\n",
       "        vertical-align: top;\n",
       "    }\n",
       "\n",
       "    .dataframe thead tr th {\n",
       "        text-align: left;\n",
       "    }\n",
       "\n",
       "    .dataframe thead tr:last-of-type th {\n",
       "        text-align: right;\n",
       "    }\n",
       "</style>\n",
       "<table border=\"1\" class=\"dataframe\">\n",
       "  <thead>\n",
       "    <tr>\n",
       "      <th>Attributes</th>\n",
       "      <th colspan=\"2\" halign=\"left\">Adj Close</th>\n",
       "      <th colspan=\"2\" halign=\"left\">Close</th>\n",
       "      <th colspan=\"2\" halign=\"left\">High</th>\n",
       "      <th colspan=\"2\" halign=\"left\">Low</th>\n",
       "      <th colspan=\"2\" halign=\"left\">Open</th>\n",
       "      <th colspan=\"2\" halign=\"left\">Volume</th>\n",
       "    </tr>\n",
       "    <tr>\n",
       "      <th>Symbols</th>\n",
       "      <th>SPY</th>\n",
       "      <th>TLT</th>\n",
       "      <th>SPY</th>\n",
       "      <th>TLT</th>\n",
       "      <th>SPY</th>\n",
       "      <th>TLT</th>\n",
       "      <th>SPY</th>\n",
       "      <th>TLT</th>\n",
       "      <th>SPY</th>\n",
       "      <th>TLT</th>\n",
       "      <th>SPY</th>\n",
       "      <th>TLT</th>\n",
       "    </tr>\n",
       "    <tr>\n",
       "      <th>Date</th>\n",
       "      <th></th>\n",
       "      <th></th>\n",
       "      <th></th>\n",
       "      <th></th>\n",
       "      <th></th>\n",
       "      <th></th>\n",
       "      <th></th>\n",
       "      <th></th>\n",
       "      <th></th>\n",
       "      <th></th>\n",
       "      <th></th>\n",
       "      <th></th>\n",
       "    </tr>\n",
       "  </thead>\n",
       "  <tbody>\n",
       "    <tr>\n",
       "      <th>2022-03-16</th>\n",
       "      <td>434.270874</td>\n",
       "      <td>132.820007</td>\n",
       "      <td>435.619995</td>\n",
       "      <td>132.820007</td>\n",
       "      <td>435.679993</td>\n",
       "      <td>133.130005</td>\n",
       "      <td>424.799988</td>\n",
       "      <td>130.320007</td>\n",
       "      <td>429.890015</td>\n",
       "      <td>131.830002</td>\n",
       "      <td>144954800.0</td>\n",
       "      <td>25857700.0</td>\n",
       "    </tr>\n",
       "    <tr>\n",
       "      <th>2022-03-17</th>\n",
       "      <td>439.704010</td>\n",
       "      <td>131.830002</td>\n",
       "      <td>441.070007</td>\n",
       "      <td>131.830002</td>\n",
       "      <td>441.070007</td>\n",
       "      <td>133.339996</td>\n",
       "      <td>433.190002</td>\n",
       "      <td>131.070007</td>\n",
       "      <td>433.589996</td>\n",
       "      <td>132.820007</td>\n",
       "      <td>102676900.0</td>\n",
       "      <td>19330600.0</td>\n",
       "    </tr>\n",
       "    <tr>\n",
       "      <th>2022-03-18</th>\n",
       "      <td>444.519989</td>\n",
       "      <td>133.440002</td>\n",
       "      <td>444.519989</td>\n",
       "      <td>133.440002</td>\n",
       "      <td>444.859985</td>\n",
       "      <td>133.539993</td>\n",
       "      <td>437.220001</td>\n",
       "      <td>132.570007</td>\n",
       "      <td>438.000000</td>\n",
       "      <td>132.570007</td>\n",
       "      <td>106250400.0</td>\n",
       "      <td>55891200.0</td>\n",
       "    </tr>\n",
       "    <tr>\n",
       "      <th>2022-03-21</th>\n",
       "      <td>444.390015</td>\n",
       "      <td>130.350006</td>\n",
       "      <td>444.390015</td>\n",
       "      <td>130.350006</td>\n",
       "      <td>446.459991</td>\n",
       "      <td>131.669998</td>\n",
       "      <td>440.679993</td>\n",
       "      <td>129.750000</td>\n",
       "      <td>444.339996</td>\n",
       "      <td>131.279999</td>\n",
       "      <td>88086500.0</td>\n",
       "      <td>26120500.0</td>\n",
       "    </tr>\n",
       "    <tr>\n",
       "      <th>2022-03-21</th>\n",
       "      <td>444.390015</td>\n",
       "      <td>130.350006</td>\n",
       "      <td>444.390015</td>\n",
       "      <td>130.350006</td>\n",
       "      <td>446.459991</td>\n",
       "      <td>131.669998</td>\n",
       "      <td>440.679993</td>\n",
       "      <td>129.750000</td>\n",
       "      <td>444.339996</td>\n",
       "      <td>131.279999</td>\n",
       "      <td>88349763.0</td>\n",
       "      <td>26122048.0</td>\n",
       "    </tr>\n",
       "  </tbody>\n",
       "</table>\n",
       "</div>"
      ],
      "text/plain": [
       "Attributes   Adj Close                   Close                    High  \\\n",
       "Symbols            SPY         TLT         SPY         TLT         SPY   \n",
       "Date                                                                     \n",
       "2022-03-16  434.270874  132.820007  435.619995  132.820007  435.679993   \n",
       "2022-03-17  439.704010  131.830002  441.070007  131.830002  441.070007   \n",
       "2022-03-18  444.519989  133.440002  444.519989  133.440002  444.859985   \n",
       "2022-03-21  444.390015  130.350006  444.390015  130.350006  446.459991   \n",
       "2022-03-21  444.390015  130.350006  444.390015  130.350006  446.459991   \n",
       "\n",
       "Attributes                     Low                    Open              \\\n",
       "Symbols            TLT         SPY         TLT         SPY         TLT   \n",
       "Date                                                                     \n",
       "2022-03-16  133.130005  424.799988  130.320007  429.890015  131.830002   \n",
       "2022-03-17  133.339996  433.190002  131.070007  433.589996  132.820007   \n",
       "2022-03-18  133.539993  437.220001  132.570007  438.000000  132.570007   \n",
       "2022-03-21  131.669998  440.679993  129.750000  444.339996  131.279999   \n",
       "2022-03-21  131.669998  440.679993  129.750000  444.339996  131.279999   \n",
       "\n",
       "Attributes       Volume              \n",
       "Symbols             SPY         TLT  \n",
       "Date                                 \n",
       "2022-03-16  144954800.0  25857700.0  \n",
       "2022-03-17  102676900.0  19330600.0  \n",
       "2022-03-18  106250400.0  55891200.0  \n",
       "2022-03-21   88086500.0  26120500.0  \n",
       "2022-03-21   88349763.0  26122048.0  "
      ]
     },
     "execution_count": 4,
     "metadata": {},
     "output_type": "execute_result"
    }
   ],
   "source": [
    "data.tail()"
   ]
  },
  {
   "cell_type": "code",
   "execution_count": 5,
   "metadata": {},
   "outputs": [],
   "source": [
    "data = data[\"Adj Close\"]"
   ]
  },
  {
   "cell_type": "code",
   "execution_count": 6,
   "metadata": {},
   "outputs": [
    {
     "data": {
      "text/html": [
       "<div>\n",
       "<style scoped>\n",
       "    .dataframe tbody tr th:only-of-type {\n",
       "        vertical-align: middle;\n",
       "    }\n",
       "\n",
       "    .dataframe tbody tr th {\n",
       "        vertical-align: top;\n",
       "    }\n",
       "\n",
       "    .dataframe thead th {\n",
       "        text-align: right;\n",
       "    }\n",
       "</style>\n",
       "<table border=\"1\" class=\"dataframe\">\n",
       "  <thead>\n",
       "    <tr style=\"text-align: right;\">\n",
       "      <th>Symbols</th>\n",
       "      <th>SPY</th>\n",
       "      <th>TLT</th>\n",
       "    </tr>\n",
       "    <tr>\n",
       "      <th>Date</th>\n",
       "      <th></th>\n",
       "      <th></th>\n",
       "    </tr>\n",
       "  </thead>\n",
       "  <tbody>\n",
       "    <tr>\n",
       "      <th>2022-03-16</th>\n",
       "      <td>434.270874</td>\n",
       "      <td>132.820007</td>\n",
       "    </tr>\n",
       "    <tr>\n",
       "      <th>2022-03-17</th>\n",
       "      <td>439.704010</td>\n",
       "      <td>131.830002</td>\n",
       "    </tr>\n",
       "    <tr>\n",
       "      <th>2022-03-18</th>\n",
       "      <td>444.519989</td>\n",
       "      <td>133.440002</td>\n",
       "    </tr>\n",
       "    <tr>\n",
       "      <th>2022-03-21</th>\n",
       "      <td>444.390015</td>\n",
       "      <td>130.350006</td>\n",
       "    </tr>\n",
       "    <tr>\n",
       "      <th>2022-03-21</th>\n",
       "      <td>444.390015</td>\n",
       "      <td>130.350006</td>\n",
       "    </tr>\n",
       "  </tbody>\n",
       "</table>\n",
       "</div>"
      ],
      "text/plain": [
       "Symbols            SPY         TLT\n",
       "Date                              \n",
       "2022-03-16  434.270874  132.820007\n",
       "2022-03-17  439.704010  131.830002\n",
       "2022-03-18  444.519989  133.440002\n",
       "2022-03-21  444.390015  130.350006\n",
       "2022-03-21  444.390015  130.350006"
      ]
     },
     "execution_count": 6,
     "metadata": {},
     "output_type": "execute_result"
    }
   ],
   "source": [
    "data.tail()"
   ]
  },
  {
   "cell_type": "markdown",
   "metadata": {},
   "source": [
    "We first calculate the moving average (ma), then we have the signal line to be the difference between the price of SPY and ma. This will make signal_line positive when we should have our holdings in SPY and negative when we should have our holding in TLT."
   ]
  },
  {
   "cell_type": "code",
   "execution_count": 7,
   "metadata": {},
   "outputs": [],
   "source": [
    "ma = data['SPY'].rolling(200).mean()"
   ]
  },
  {
   "cell_type": "code",
   "execution_count": 8,
   "metadata": {},
   "outputs": [],
   "source": [
    "signal_line = data['SPY'] - ma\n",
    "signal_line = signal_line.apply(np.sign)"
   ]
  },
  {
   "cell_type": "markdown",
   "metadata": {},
   "source": [
    "The apply(np.sign) simply transform the sign to either 1 or -1. Hence, if 1, we hold SPY, and if -1, we hold TLT."
   ]
  },
  {
   "cell_type": "code",
   "execution_count": 9,
   "metadata": {},
   "outputs": [],
   "source": [
    "log_returns = np.log(data/data.shift())"
   ]
  },
  {
   "cell_type": "code",
   "execution_count": 10,
   "metadata": {},
   "outputs": [],
   "source": [
    "rtn = signal_line.clip(lower=0).shift(1)*log_returns['SPY']\n",
    "rtn = rtn - (signal_line.clip(upper=0).shift())*log_returns['TLT']"
   ]
  },
  {
   "cell_type": "markdown",
   "metadata": {},
   "source": [
    "The cumulative return of the strategy"
   ]
  },
  {
   "cell_type": "code",
   "execution_count": 11,
   "metadata": {},
   "outputs": [
    {
     "data": {
      "text/plain": [
       "Date\n",
       "2008-01-02    1.014403\n",
       "2008-01-03    1.013005\n",
       "2008-01-04    1.013221\n",
       "2008-01-07    1.017628\n",
       "2008-01-08    1.016446\n",
       "                ...   \n",
       "2022-03-16    3.831721\n",
       "2022-03-17    3.803160\n",
       "2022-03-18    3.849607\n",
       "2022-03-21    3.848482\n",
       "2022-03-21    3.848482\n",
       "Length: 3581, dtype: float64"
      ]
     },
     "execution_count": 11,
     "metadata": {},
     "output_type": "execute_result"
    }
   ],
   "source": [
    "rtn.loc['2008':].cumsum().apply(np.exp)"
   ]
  },
  {
   "cell_type": "code",
   "execution_count": 12,
   "metadata": {},
   "outputs": [
    {
     "data": {
      "text/plain": [
       "Date\n",
       "2008-01-02    0.991245\n",
       "2008-01-03    0.990766\n",
       "2008-01-04    0.966486\n",
       "2008-01-07    0.965666\n",
       "2008-01-08    0.950072\n",
       "                ...   \n",
       "2022-03-16    3.935833\n",
       "2022-03-17    3.985074\n",
       "2022-03-18    4.028722\n",
       "2022-03-21    4.027544\n",
       "2022-03-21    4.027544\n",
       "Name: SPY, Length: 3581, dtype: float64"
      ]
     },
     "execution_count": 12,
     "metadata": {},
     "output_type": "execute_result"
    }
   ],
   "source": [
    "log_returns['SPY'].loc['2008':].cumsum().apply(np.exp)"
   ]
  },
  {
   "cell_type": "code",
   "execution_count": 13,
   "metadata": {},
   "outputs": [
    {
     "data": {
      "text/plain": [
       "<matplotlib.legend.Legend at 0x2c515dbb088>"
      ]
     },
     "execution_count": 13,
     "metadata": {},
     "output_type": "execute_result"
    },
    {
     "data": {
      "image/png": "[encoded data removed]",
      "text/plain": [
       "<Figure size 432x288 with 1 Axes>"
      ]
     },
     "metadata": {
      "needs_background": "light"
     },
     "output_type": "display_data"
    }
   ],
   "source": [
    "fig,ax = plt.subplots()\n",
    "\n",
    "rtn.loc['2008':].cumsum().apply(np.exp).plot(ax=ax, label='Backtest')\n",
    "log_returns['SPY'].loc['2008':].cumsum().apply(np.exp).plot(ax=ax,)\n",
    "ax.legend()\n",
    "\n",
    "\n"
   ]
  },
  {
   "cell_type": "markdown",
   "metadata": {},
   "source": [
    "Hence, this looks like our strategy performs better than SPY."
   ]
  },
  {
   "cell_type": "markdown",
   "metadata": {},
   "source": [
    "Project – Backtesting different periods and visualize results"
   ]
  },
  {
   "cell_type": "code",
   "execution_count": 14,
   "metadata": {},
   "outputs": [],
   "source": [
    "def calculate(log_returns,start,end):\n",
    "    years = int(end) - int(start) +1\n",
    "\n",
    "    data = log_returns.loc[start:end]\n",
    "\n",
    "    cagr = np.exp(data.sum())**(1/years) - 1\n",
    "\n",
    "    norm = data.cumsum().apply(np.exp)\n",
    "\n",
    "    rolling_max = norm.rolling(252).max()\n",
    "    daily_drawdown = norm/rolling_max - 1\n",
    "    drawdown = daily_drawdown.cummin().iloc[-1]\n",
    "\n",
    "    volatality = data.std()*(252**.5)\n",
    "\n",
    "    return cagr,drawdown,volatality\n"
   ]
  },
  {
   "cell_type": "code",
   "execution_count": 15,
   "metadata": {},
   "outputs": [
    {
     "data": {
      "text/plain": [
       "(0.08445295806273045, -0.5148146856250009, 0.20329910418199426)"
      ]
     },
     "execution_count": 15,
     "metadata": {},
     "output_type": "execute_result"
    }
   ],
   "source": [
    "calculate(log_returns['SPY'],'2008','2017')"
   ]
  },
  {
   "cell_type": "code",
   "execution_count": 16,
   "metadata": {},
   "outputs": [
    {
     "data": {
      "text/plain": [
       "(0.10213248146627452, -0.25300780030129144, 0.14464291650017963)"
      ]
     },
     "execution_count": 16,
     "metadata": {},
     "output_type": "execute_result"
    }
   ],
   "source": [
    "calculate(rtn,'2008','2017')"
   ]
  },
  {
   "cell_type": "markdown",
   "metadata": {},
   "source": [
    "Now this looks pretty good. A better return 10.2% CAGR, 25.3% maximum drawdown, and 14.5% volatility."
   ]
  },
  {
   "cell_type": "code",
   "execution_count": 20,
   "metadata": {},
   "outputs": [],
   "source": [
    "def visualize(backtest, spy, start, end):\n",
    "    def x_titles(spy_val, bt_val):\n",
    "        spy_str = str(round(spy_val*100,1))\n",
    "        bt_str = str(round(bt_val*100,1))\n",
    "        return ['SPY\\n' + spy_str + '%', 'Backtest\\n'+ bt_str + '%']\n",
    "\n",
    "    spy_cagr,spy_drawdown,spy_vol = calculate(spy,start,end)\n",
    "    bt_cagr, bt_drawdown, bt_vol = calculate(backtest, start, end)\n",
    "\n",
    "    fig,ax = plt.subplots(2,2)\n",
    "\n",
    "    spy.loc[start:end].cumsum().apply(np.exp).plot(ax=ax[0 ,0]) \n",
    "    backtest.loc[start:end].cumsum().apply(np.exp).plot(ax=ax[0,0], label = 'Backtest', c='c')\n",
    "    ax[0,0].legend()\n",
    "\n",
    "    x = x_titles(spy_cagr,bt_cagr)\n",
    "    ax[0,1].bar(x,[spy_cagr,bt_cagr],color=['b','c'])\n",
    "    ax[0,1].set_title('CAGR')\n",
    "\n",
    "    x = x_titles(spy_drawdown,bt_drawdown)\n",
    "    ax[1,0].bar(x,[spy_drawdown,bt_drawdown],color=['b','c'])\n",
    "    ax[1,0].set_title('Drawdown')\n",
    "\n",
    "    x = x_titles(spy_vol,bt_vol)\n",
    "    ax[1,1].bar(x,[spy_vol,bt_vol],color=['b','c'])\n",
    "    ax[1,1].set_title('Volatality')\n",
    "\n",
    "    plt.tight_layout()\n",
    "\n",
    "\n",
    "\n",
    "\n",
    "\n",
    "\n",
    " \n"
   ]
  },
  {
   "cell_type": "code",
   "execution_count": 21,
   "metadata": {},
   "outputs": [
    {
     "data": {
      "image/png": "[encoded data removed]",
      "text/plain": [
       "<Figure size 432x288 with 4 Axes>"
      ]
     },
     "metadata": {
      "needs_background": "light"
     },
     "output_type": "display_data"
    }
   ],
   "source": [
    "visualize(rtn,log_returns['SPY'],'2008','2017')"
   ]
  },
  {
   "cell_type": "code",
   "execution_count": 22,
   "metadata": {},
   "outputs": [
    {
     "data": {
      "image/png": "[encoded data removed]",
      "text/plain": [
       "<Figure size 432x288 with 4 Axes>"
      ]
     },
     "metadata": {
      "needs_background": "light"
     },
     "output_type": "display_data"
    }
   ],
   "source": [
    "visualize(rtn,log_returns['SPY'],'2011','2020')"
   ]
  },
  {
   "cell_type": "code",
   "execution_count": null,
   "metadata": {},
   "outputs": [],
   "source": [
    "\n"
   ]
  }
 ],
 "metadata": {
  "interpreter": {
   "hash": "1e915f0a29dc84041eaeb02b7b1a21c440e37a87b61d44d5e84a515737dc82bc"
  },
  "kernelspec": {
   "display_name": "Python 3.7.6 ('base')",
   "language": "python",
   "name": "python3"
  },
  "language_info": {
   "codemirror_mode": {
    "name": "ipython",
    "version": 3
   },
   "file_extension": ".py",
   "mimetype": "text/x-python",
   "name": "python",
   "nbconvert_exporter": "python",
   "pygments_lexer": "ipython3",
   "version": "3.7.6"
  },
  "orig_nbformat": 4
 },
 "nbformat": 4,
 "nbformat_minor": 2
}
