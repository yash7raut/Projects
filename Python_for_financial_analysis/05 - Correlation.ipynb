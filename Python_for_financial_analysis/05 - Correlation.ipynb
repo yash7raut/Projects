{
 "cells": [
  {
   "cell_type": "markdown",
   "metadata": {},
   "source": [
    "Correlation, in the finance and investment industries, is a statistic that measures the degree to which two securities move in relation to each other."
   ]
  },
  {
   "cell_type": "markdown",
   "metadata": {},
   "source": [
    "The correlation tells us how stock prices move in relation to each other. That is, given a stock A and a stock B, how are the prices related to each other."
   ]
  },
  {
   "cell_type": "markdown",
   "metadata": {},
   "source": [
    "A perfect negative correlation means that two stocks move in opposite directions"
   ]
  },
  {
   "cell_type": "markdown",
   "metadata": {},
   "source": [
    "It is important to notice that a positive correlation does not promise that when stock A goes up, so does stock B. It is simply expected to happen on average."
   ]
  },
  {
   "cell_type": "code",
   "execution_count": 1,
   "metadata": {},
   "outputs": [
    {
     "name": "stderr",
     "output_type": "stream",
     "text": [
      "C:\\Users\\HP\\anaconda3\\lib\\importlib\\_bootstrap.py:219: RuntimeWarning: numpy.ufunc size changed, may indicate binary incompatibility. Expected 192 from C header, got 216 from PyObject\n",
      "  return f(*args, **kwds)\n"
     ]
    }
   ],
   "source": [
    "import pandas_datareader as pdr\n",
    "import datetime as dt\n",
    "import pandas as pd\n",
    "import numpy as np\n",
    "import matplotlib.pyplot as plt\n",
    "%matplotlib inline"
   ]
  },
  {
   "cell_type": "code",
   "execution_count": 4,
   "metadata": {},
   "outputs": [],
   "source": [
    "tickers = ['TCS.NS','INFY.NS']\n",
    "start = dt.datetime(2010,1,1)\n",
    "data = pdr.get_data_yahoo(tickers,start)"
   ]
  },
  {
   "cell_type": "code",
   "execution_count": 5,
   "metadata": {},
   "outputs": [
    {
     "data": {
      "text/html": [
       "<div>\n",
       "<style scoped>\n",
       "    .dataframe tbody tr th:only-of-type {\n",
       "        vertical-align: middle;\n",
       "    }\n",
       "\n",
       "    .dataframe tbody tr th {\n",
       "        vertical-align: top;\n",
       "    }\n",
       "\n",
       "    .dataframe thead tr th {\n",
       "        text-align: left;\n",
       "    }\n",
       "\n",
       "    .dataframe thead tr:last-of-type th {\n",
       "        text-align: right;\n",
       "    }\n",
       "</style>\n",
       "<table border=\"1\" class=\"dataframe\">\n",
       "  <thead>\n",
       "    <tr>\n",
       "      <th>Attributes</th>\n",
       "      <th colspan=\"2\" halign=\"left\">Adj Close</th>\n",
       "      <th colspan=\"2\" halign=\"left\">Close</th>\n",
       "      <th colspan=\"2\" halign=\"left\">High</th>\n",
       "      <th colspan=\"2\" halign=\"left\">Low</th>\n",
       "      <th colspan=\"2\" halign=\"left\">Open</th>\n",
       "      <th colspan=\"2\" halign=\"left\">Volume</th>\n",
       "    </tr>\n",
       "    <tr>\n",
       "      <th>Symbols</th>\n",
       "      <th>TCS.NS</th>\n",
       "      <th>INFY.NS</th>\n",
       "      <th>TCS.NS</th>\n",
       "      <th>INFY.NS</th>\n",
       "      <th>TCS.NS</th>\n",
       "      <th>INFY.NS</th>\n",
       "      <th>TCS.NS</th>\n",
       "      <th>INFY.NS</th>\n",
       "      <th>TCS.NS</th>\n",
       "      <th>INFY.NS</th>\n",
       "      <th>TCS.NS</th>\n",
       "      <th>INFY.NS</th>\n",
       "    </tr>\n",
       "    <tr>\n",
       "      <th>Date</th>\n",
       "      <th></th>\n",
       "      <th></th>\n",
       "      <th></th>\n",
       "      <th></th>\n",
       "      <th></th>\n",
       "      <th></th>\n",
       "      <th></th>\n",
       "      <th></th>\n",
       "      <th></th>\n",
       "      <th></th>\n",
       "      <th></th>\n",
       "      <th></th>\n",
       "    </tr>\n",
       "  </thead>\n",
       "  <tbody>\n",
       "    <tr>\n",
       "      <th>2010-01-04</th>\n",
       "      <td>299.222321</td>\n",
       "      <td>252.160812</td>\n",
       "      <td>375.825012</td>\n",
       "      <td>326.575012</td>\n",
       "      <td>379.450012</td>\n",
       "      <td>328.750000</td>\n",
       "      <td>374.524994</td>\n",
       "      <td>324.412506</td>\n",
       "      <td>377.399994</td>\n",
       "      <td>326.250000</td>\n",
       "      <td>1963682.0</td>\n",
       "      <td>4069264.0</td>\n",
       "    </tr>\n",
       "    <tr>\n",
       "      <th>2010-01-05</th>\n",
       "      <td>299.302032</td>\n",
       "      <td>253.005310</td>\n",
       "      <td>375.924988</td>\n",
       "      <td>327.668762</td>\n",
       "      <td>379.774994</td>\n",
       "      <td>328.837494</td>\n",
       "      <td>373.274994</td>\n",
       "      <td>325.012512</td>\n",
       "      <td>377.500000</td>\n",
       "      <td>327.500000</td>\n",
       "      <td>2014488.0</td>\n",
       "      <td>6895528.0</td>\n",
       "    </tr>\n",
       "    <tr>\n",
       "      <th>2010-01-06</th>\n",
       "      <td>292.534515</td>\n",
       "      <td>249.313553</td>\n",
       "      <td>367.424988</td>\n",
       "      <td>322.887512</td>\n",
       "      <td>376.100006</td>\n",
       "      <td>335.375000</td>\n",
       "      <td>366.500000</td>\n",
       "      <td>321.887512</td>\n",
       "      <td>375.924988</td>\n",
       "      <td>335.375000</td>\n",
       "      <td>3349176.0</td>\n",
       "      <td>6817288.0</td>\n",
       "    </tr>\n",
       "    <tr>\n",
       "      <th>2010-01-07</th>\n",
       "      <td>284.393555</td>\n",
       "      <td>243.710724</td>\n",
       "      <td>357.200012</td>\n",
       "      <td>315.631256</td>\n",
       "      <td>369.700012</td>\n",
       "      <td>323.325012</td>\n",
       "      <td>355.500000</td>\n",
       "      <td>314.774994</td>\n",
       "      <td>367.750000</td>\n",
       "      <td>323.325012</td>\n",
       "      <td>6474892.0</td>\n",
       "      <td>10892600.0</td>\n",
       "    </tr>\n",
       "    <tr>\n",
       "      <th>2010-01-08</th>\n",
       "      <td>278.581512</td>\n",
       "      <td>237.837692</td>\n",
       "      <td>349.899994</td>\n",
       "      <td>308.024994</td>\n",
       "      <td>359.250000</td>\n",
       "      <td>315.412506</td>\n",
       "      <td>348.250000</td>\n",
       "      <td>307.250000</td>\n",
       "      <td>358.000000</td>\n",
       "      <td>314.875000</td>\n",
       "      <td>6048178.0</td>\n",
       "      <td>12649312.0</td>\n",
       "    </tr>\n",
       "  </tbody>\n",
       "</table>\n",
       "</div>"
      ],
      "text/plain": [
       "Attributes   Adj Close                   Close                    High  \\\n",
       "Symbols         TCS.NS     INFY.NS      TCS.NS     INFY.NS      TCS.NS   \n",
       "Date                                                                     \n",
       "2010-01-04  299.222321  252.160812  375.825012  326.575012  379.450012   \n",
       "2010-01-05  299.302032  253.005310  375.924988  327.668762  379.774994   \n",
       "2010-01-06  292.534515  249.313553  367.424988  322.887512  376.100006   \n",
       "2010-01-07  284.393555  243.710724  357.200012  315.631256  369.700012   \n",
       "2010-01-08  278.581512  237.837692  349.899994  308.024994  359.250000   \n",
       "\n",
       "Attributes                     Low                    Open              \\\n",
       "Symbols        INFY.NS      TCS.NS     INFY.NS      TCS.NS     INFY.NS   \n",
       "Date                                                                     \n",
       "2010-01-04  328.750000  374.524994  324.412506  377.399994  326.250000   \n",
       "2010-01-05  328.837494  373.274994  325.012512  377.500000  327.500000   \n",
       "2010-01-06  335.375000  366.500000  321.887512  375.924988  335.375000   \n",
       "2010-01-07  323.325012  355.500000  314.774994  367.750000  323.325012   \n",
       "2010-01-08  315.412506  348.250000  307.250000  358.000000  314.875000   \n",
       "\n",
       "Attributes     Volume              \n",
       "Symbols        TCS.NS     INFY.NS  \n",
       "Date                               \n",
       "2010-01-04  1963682.0   4069264.0  \n",
       "2010-01-05  2014488.0   6895528.0  \n",
       "2010-01-06  3349176.0   6817288.0  \n",
       "2010-01-07  6474892.0  10892600.0  \n",
       "2010-01-08  6048178.0  12649312.0  "
      ]
     },
     "execution_count": 5,
     "metadata": {},
     "output_type": "execute_result"
    }
   ],
   "source": [
    "data.head()"
   ]
  },
  {
   "cell_type": "code",
   "execution_count": 6,
   "metadata": {},
   "outputs": [
    {
     "data": {
      "text/html": [
       "<div>\n",
       "<style scoped>\n",
       "    .dataframe tbody tr th:only-of-type {\n",
       "        vertical-align: middle;\n",
       "    }\n",
       "\n",
       "    .dataframe tbody tr th {\n",
       "        vertical-align: top;\n",
       "    }\n",
       "\n",
       "    .dataframe thead tr th {\n",
       "        text-align: left;\n",
       "    }\n",
       "\n",
       "    .dataframe thead tr:last-of-type th {\n",
       "        text-align: right;\n",
       "    }\n",
       "</style>\n",
       "<table border=\"1\" class=\"dataframe\">\n",
       "  <thead>\n",
       "    <tr>\n",
       "      <th>Attributes</th>\n",
       "      <th colspan=\"2\" halign=\"left\">Adj Close</th>\n",
       "      <th colspan=\"2\" halign=\"left\">Close</th>\n",
       "      <th colspan=\"2\" halign=\"left\">High</th>\n",
       "      <th colspan=\"2\" halign=\"left\">Low</th>\n",
       "      <th colspan=\"2\" halign=\"left\">Open</th>\n",
       "      <th colspan=\"2\" halign=\"left\">Volume</th>\n",
       "    </tr>\n",
       "    <tr>\n",
       "      <th>Symbols</th>\n",
       "      <th>TCS.NS</th>\n",
       "      <th>INFY.NS</th>\n",
       "      <th>TCS.NS</th>\n",
       "      <th>INFY.NS</th>\n",
       "      <th>TCS.NS</th>\n",
       "      <th>INFY.NS</th>\n",
       "      <th>TCS.NS</th>\n",
       "      <th>INFY.NS</th>\n",
       "      <th>TCS.NS</th>\n",
       "      <th>INFY.NS</th>\n",
       "      <th>TCS.NS</th>\n",
       "      <th>INFY.NS</th>\n",
       "    </tr>\n",
       "    <tr>\n",
       "      <th>Date</th>\n",
       "      <th></th>\n",
       "      <th></th>\n",
       "      <th></th>\n",
       "      <th></th>\n",
       "      <th></th>\n",
       "      <th></th>\n",
       "      <th></th>\n",
       "      <th></th>\n",
       "      <th></th>\n",
       "      <th></th>\n",
       "      <th></th>\n",
       "      <th></th>\n",
       "    </tr>\n",
       "  </thead>\n",
       "  <tbody>\n",
       "    <tr>\n",
       "      <th>2022-03-10</th>\n",
       "      <td>3620.949951</td>\n",
       "      <td>1825.900024</td>\n",
       "      <td>3620.949951</td>\n",
       "      <td>1825.900024</td>\n",
       "      <td>3684.000000</td>\n",
       "      <td>1844.750000</td>\n",
       "      <td>3615.000000</td>\n",
       "      <td>1810.199951</td>\n",
       "      <td>3684.00</td>\n",
       "      <td>1844.750000</td>\n",
       "      <td>2005441.0</td>\n",
       "      <td>6547182.0</td>\n",
       "    </tr>\n",
       "    <tr>\n",
       "      <th>2022-03-11</th>\n",
       "      <td>3599.149902</td>\n",
       "      <td>1822.000000</td>\n",
       "      <td>3599.149902</td>\n",
       "      <td>1822.000000</td>\n",
       "      <td>3639.850098</td>\n",
       "      <td>1831.400024</td>\n",
       "      <td>3592.850098</td>\n",
       "      <td>1811.000000</td>\n",
       "      <td>3603.25</td>\n",
       "      <td>1814.000000</td>\n",
       "      <td>1623423.0</td>\n",
       "      <td>4758657.0</td>\n",
       "    </tr>\n",
       "    <tr>\n",
       "      <th>2022-03-14</th>\n",
       "      <td>3643.000000</td>\n",
       "      <td>1890.699951</td>\n",
       "      <td>3643.000000</td>\n",
       "      <td>1890.699951</td>\n",
       "      <td>3648.350098</td>\n",
       "      <td>1895.000000</td>\n",
       "      <td>3580.000000</td>\n",
       "      <td>1831.550049</td>\n",
       "      <td>3580.00</td>\n",
       "      <td>1831.550049</td>\n",
       "      <td>1765564.0</td>\n",
       "      <td>10289704.0</td>\n",
       "    </tr>\n",
       "    <tr>\n",
       "      <th>2022-03-15</th>\n",
       "      <td>3593.899902</td>\n",
       "      <td>1839.300049</td>\n",
       "      <td>3593.899902</td>\n",
       "      <td>1839.300049</td>\n",
       "      <td>3659.000000</td>\n",
       "      <td>1888.349976</td>\n",
       "      <td>3585.399902</td>\n",
       "      <td>1830.000000</td>\n",
       "      <td>3659.00</td>\n",
       "      <td>1888.349976</td>\n",
       "      <td>3651133.0</td>\n",
       "      <td>7140443.0</td>\n",
       "    </tr>\n",
       "    <tr>\n",
       "      <th>2022-03-16</th>\n",
       "      <td>3655.899902</td>\n",
       "      <td>1889.400024</td>\n",
       "      <td>3655.899902</td>\n",
       "      <td>1889.400024</td>\n",
       "      <td>3668.000000</td>\n",
       "      <td>1893.949951</td>\n",
       "      <td>3616.250000</td>\n",
       "      <td>1849.000000</td>\n",
       "      <td>3640.50</td>\n",
       "      <td>1865.000000</td>\n",
       "      <td>3089521.0</td>\n",
       "      <td>5232709.0</td>\n",
       "    </tr>\n",
       "  </tbody>\n",
       "</table>\n",
       "</div>"
      ],
      "text/plain": [
       "Attributes    Adj Close                     Close                      High  \\\n",
       "Symbols          TCS.NS      INFY.NS       TCS.NS      INFY.NS       TCS.NS   \n",
       "Date                                                                          \n",
       "2022-03-10  3620.949951  1825.900024  3620.949951  1825.900024  3684.000000   \n",
       "2022-03-11  3599.149902  1822.000000  3599.149902  1822.000000  3639.850098   \n",
       "2022-03-14  3643.000000  1890.699951  3643.000000  1890.699951  3648.350098   \n",
       "2022-03-15  3593.899902  1839.300049  3593.899902  1839.300049  3659.000000   \n",
       "2022-03-16  3655.899902  1889.400024  3655.899902  1889.400024  3668.000000   \n",
       "\n",
       "Attributes                       Low                  Open               \\\n",
       "Symbols         INFY.NS       TCS.NS      INFY.NS   TCS.NS      INFY.NS   \n",
       "Date                                                                      \n",
       "2022-03-10  1844.750000  3615.000000  1810.199951  3684.00  1844.750000   \n",
       "2022-03-11  1831.400024  3592.850098  1811.000000  3603.25  1814.000000   \n",
       "2022-03-14  1895.000000  3580.000000  1831.550049  3580.00  1831.550049   \n",
       "2022-03-15  1888.349976  3585.399902  1830.000000  3659.00  1888.349976   \n",
       "2022-03-16  1893.949951  3616.250000  1849.000000  3640.50  1865.000000   \n",
       "\n",
       "Attributes     Volume              \n",
       "Symbols        TCS.NS     INFY.NS  \n",
       "Date                               \n",
       "2022-03-10  2005441.0   6547182.0  \n",
       "2022-03-11  1623423.0   4758657.0  \n",
       "2022-03-14  1765564.0  10289704.0  \n",
       "2022-03-15  3651133.0   7140443.0  \n",
       "2022-03-16  3089521.0   5232709.0  "
      ]
     },
     "execution_count": 6,
     "metadata": {},
     "output_type": "execute_result"
    }
   ],
   "source": [
    "data.tail()"
   ]
  },
  {
   "cell_type": "code",
   "execution_count": 8,
   "metadata": {},
   "outputs": [],
   "source": [
    "data = data['Adj Close']\n"
   ]
  },
  {
   "cell_type": "code",
   "execution_count": 9,
   "metadata": {},
   "outputs": [],
   "source": [
    "log_returns = np.log(data/data.shift())"
   ]
  },
  {
   "cell_type": "code",
   "execution_count": 10,
   "metadata": {},
   "outputs": [
    {
     "data": {
      "text/html": [
       "<div>\n",
       "<style scoped>\n",
       "    .dataframe tbody tr th:only-of-type {\n",
       "        vertical-align: middle;\n",
       "    }\n",
       "\n",
       "    .dataframe tbody tr th {\n",
       "        vertical-align: top;\n",
       "    }\n",
       "\n",
       "    .dataframe thead th {\n",
       "        text-align: right;\n",
       "    }\n",
       "</style>\n",
       "<table border=\"1\" class=\"dataframe\">\n",
       "  <thead>\n",
       "    <tr style=\"text-align: right;\">\n",
       "      <th>Symbols</th>\n",
       "      <th>TCS.NS</th>\n",
       "      <th>INFY.NS</th>\n",
       "    </tr>\n",
       "    <tr>\n",
       "      <th>Symbols</th>\n",
       "      <th></th>\n",
       "      <th></th>\n",
       "    </tr>\n",
       "  </thead>\n",
       "  <tbody>\n",
       "    <tr>\n",
       "      <th>TCS.NS</th>\n",
       "      <td>1.000000</td>\n",
       "      <td>0.525748</td>\n",
       "    </tr>\n",
       "    <tr>\n",
       "      <th>INFY.NS</th>\n",
       "      <td>0.525748</td>\n",
       "      <td>1.000000</td>\n",
       "    </tr>\n",
       "  </tbody>\n",
       "</table>\n",
       "</div>"
      ],
      "text/plain": [
       "Symbols    TCS.NS   INFY.NS\n",
       "Symbols                    \n",
       "TCS.NS   1.000000  0.525748\n",
       "INFY.NS  0.525748  1.000000"
      ]
     },
     "execution_count": 10,
     "metadata": {},
     "output_type": "execute_result"
    }
   ],
   "source": [
    "log_returns.corr()"
   ]
  },
  {
   "cell_type": "code",
   "execution_count": 14,
   "metadata": {},
   "outputs": [
    {
     "data": {
      "text/plain": [
       "<matplotlib.axes._subplots.AxesSubplot at 0x20bceff7c48>"
      ]
     },
     "execution_count": 14,
     "metadata": {},
     "output_type": "execute_result"
    },
    {
     "data": {
      "image/png": "[encoded data removed]",
      "text/plain": [
       "<Figure size 432x288 with 1 Axes>"
      ]
     },
     "metadata": {
      "needs_background": "light"
     },
     "output_type": "display_data"
    }
   ],
   "source": [
    "fig,ax = plt.subplots()\n",
    "(data/data.iloc[0]).plot(ax=ax)"
   ]
  },
  {
   "cell_type": "markdown",
   "metadata": {},
   "source": [
    "Project – Calculate the return (CAGR), maximal drawdown and volatility of TCS and INFOSYS"
   ]
  },
  {
   "cell_type": "code",
   "execution_count": 15,
   "metadata": {},
   "outputs": [],
   "source": [
    "cagr_tcs = (data['TCS.NS'].iloc[-1]/data['TCS.NS'].iloc[0])**(1/10) - 1\n",
    "cagr_infy = (data['INFY.NS'].iloc[-1]/data['INFY.NS'].iloc[0])**(1/10) - 1"
   ]
  },
  {
   "cell_type": "code",
   "execution_count": 17,
   "metadata": {},
   "outputs": [
    {
     "data": {
      "text/plain": [
       "(0.28439921352994113, 0.2231075082430507)"
      ]
     },
     "execution_count": 17,
     "metadata": {},
     "output_type": "execute_result"
    }
   ],
   "source": [
    "cagr_tcs,cagr_infy"
   ]
  },
  {
   "cell_type": "markdown",
   "metadata": {},
   "source": [
    "This shows that the annual return of TCS is 28% and 22% for INFY."
   ]
  },
  {
   "cell_type": "code",
   "execution_count": 22,
   "metadata": {},
   "outputs": [],
   "source": [
    "def max_drawdown(data):\n",
    "    rolling_max = data.cummax()\n",
    "    daily_drawdown = data/rolling_max - 1\n",
    "    max_drawdown = daily_drawdown.cummin().iloc[-1]\n",
    "    return max_drawdown"
   ]
  },
  {
   "cell_type": "code",
   "execution_count": 23,
   "metadata": {},
   "outputs": [
    {
     "data": {
      "text/plain": [
       "(-0.27211310278826784, -0.3795202057017226)"
      ]
     },
     "execution_count": 23,
     "metadata": {},
     "output_type": "execute_result"
    }
   ],
   "source": [
    "max_drawdown(data['TCS.NS']),max_drawdown(data['INFY.NS'])"
   ]
  },
  {
   "cell_type": "markdown",
   "metadata": {},
   "source": [
    "This shows that the maximum drawdown is 27.2% for TCS and 37.9% for INFY."
   ]
  },
  {
   "cell_type": "code",
   "execution_count": 24,
   "metadata": {},
   "outputs": [
    {
     "data": {
      "text/plain": [
       "Symbols\n",
       "TCS.NS     0.256332\n",
       "INFY.NS    0.278949\n",
       "dtype: float64"
      ]
     },
     "execution_count": 24,
     "metadata": {},
     "output_type": "execute_result"
    }
   ],
   "source": [
    "log_returns.std()*(252**0.5)"
   ]
  },
  {
   "cell_type": "markdown",
   "metadata": {},
   "source": [
    "This shows that the volatility of TCS is 25% and 27% for INFY.\n"
   ]
  },
  {
   "cell_type": "markdown",
   "metadata": {},
   "source": [
    "We can infer that both the scrips are positively correlated."
   ]
  }
 ],
 "metadata": {
  "interpreter": {
   "hash": "1e915f0a29dc84041eaeb02b7b1a21c440e37a87b61d44d5e84a515737dc82bc"
  },
  "kernelspec": {
   "display_name": "Python 3.7.6 ('base')",
   "language": "python",
   "name": "python3"
  },
  "language_info": {
   "codemirror_mode": {
    "name": "ipython",
    "version": 3
   },
   "file_extension": ".py",
   "mimetype": "text/x-python",
   "name": "python",
   "nbconvert_exporter": "python",
   "pygments_lexer": "ipython3",
   "version": "3.7.6"
  },
  "orig_nbformat": 4
 },
 "nbformat": 4,
 "nbformat_minor": 2
}
