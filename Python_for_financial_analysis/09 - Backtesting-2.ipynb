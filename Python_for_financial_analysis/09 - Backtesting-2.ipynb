{
 "cells": [
  {
   "cell_type": "markdown",
   "metadata": {},
   "source": [
    "The strategy we will explore in this chapter comes from the book THE 12% SOLUTION by David Allan Carter."
   ]
  },
  {
   "cell_type": "markdown",
   "metadata": {},
   "source": [
    "Here we will only explore the solution, which should return 12% on average over 10 years."
   ]
  },
  {
   "cell_type": "markdown",
   "metadata": {},
   "source": [
    "There is a 60-40 percent assets-hedge split."
   ]
  },
  {
   "cell_type": "markdown",
   "metadata": {},
   "source": [
    "The hedge is kept in TLT and the assets in one of the following SPY, IWM, MDY, QQQ, or cash."
   ]
  },
  {
   "cell_type": "markdown",
   "metadata": {},
   "source": [
    "This is a monthly strategy. We only make changes on a monthly basis and based on a 3-month lookback. Hence, we only need monthly data for our backtesting."
   ]
  },
  {
   "cell_type": "code",
   "execution_count": 1,
   "metadata": {},
   "outputs": [],
   "source": [
    "import pandas_datareader as pdr\n",
    "import datetime as dt\n",
    "import pandas as pd\n",
    "import numpy as np\n",
    "import matplotlib.pyplot as plt\n",
    "%matplotlib inline"
   ]
  },
  {
   "cell_type": "code",
   "execution_count": 3,
   "metadata": {},
   "outputs": [],
   "source": [
    "tickers = ['SPY','IWM','MDY','QQQ','TLT']\n",
    "start = dt.datetime(2007,1,1)\n",
    "end = dt.datetime(2021,1,1)\n",
    "data = pdr.get_data_yahoo(tickers,start,end,interval = 'm')\n",
    "data = data['Adj Close']"
   ]
  },
  {
   "cell_type": "code",
   "execution_count": 5,
   "metadata": {},
   "outputs": [
    {
     "data": {
      "text/html": [
       "<div>\n",
       "<style scoped>\n",
       "    .dataframe tbody tr th:only-of-type {\n",
       "        vertical-align: middle;\n",
       "    }\n",
       "\n",
       "    .dataframe tbody tr th {\n",
       "        vertical-align: top;\n",
       "    }\n",
       "\n",
       "    .dataframe thead th {\n",
       "        text-align: right;\n",
       "    }\n",
       "</style>\n",
       "<table border=\"1\" class=\"dataframe\">\n",
       "  <thead>\n",
       "    <tr style=\"text-align: right;\">\n",
       "      <th>Symbols</th>\n",
       "      <th>SPY</th>\n",
       "      <th>IWM</th>\n",
       "      <th>MDY</th>\n",
       "      <th>QQQ</th>\n",
       "      <th>Short</th>\n",
       "      <th>TLT</th>\n",
       "    </tr>\n",
       "    <tr>\n",
       "      <th>Date</th>\n",
       "      <th></th>\n",
       "      <th></th>\n",
       "      <th></th>\n",
       "      <th></th>\n",
       "      <th></th>\n",
       "      <th></th>\n",
       "    </tr>\n",
       "  </thead>\n",
       "  <tbody>\n",
       "    <tr>\n",
       "      <th>2020-09-01</th>\n",
       "      <td>326.754822</td>\n",
       "      <td>147.359680</td>\n",
       "      <td>333.359344</td>\n",
       "      <td>275.666809</td>\n",
       "      <td>1.0</td>\n",
       "      <td>159.496613</td>\n",
       "    </tr>\n",
       "    <tr>\n",
       "      <th>2020-10-01</th>\n",
       "      <td>319.883026</td>\n",
       "      <td>151.180176</td>\n",
       "      <td>341.703217</td>\n",
       "      <td>267.272949</td>\n",
       "      <td>1.0</td>\n",
       "      <td>154.111649</td>\n",
       "    </tr>\n",
       "    <tr>\n",
       "      <th>2020-11-01</th>\n",
       "      <td>354.678833</td>\n",
       "      <td>178.761749</td>\n",
       "      <td>390.560272</td>\n",
       "      <td>297.276459</td>\n",
       "      <td>1.0</td>\n",
       "      <td>156.670059</td>\n",
       "    </tr>\n",
       "    <tr>\n",
       "      <th>2020-12-01</th>\n",
       "      <td>366.257874</td>\n",
       "      <td>193.614120</td>\n",
       "      <td>414.381927</td>\n",
       "      <td>311.286041</td>\n",
       "      <td>1.0</td>\n",
       "      <td>154.593811</td>\n",
       "    </tr>\n",
       "    <tr>\n",
       "      <th>2021-01-01</th>\n",
       "      <td>364.070923</td>\n",
       "      <td>203.629059</td>\n",
       "      <td>421.797546</td>\n",
       "      <td>312.665283</td>\n",
       "      <td>1.0</td>\n",
       "      <td>149.285217</td>\n",
       "    </tr>\n",
       "  </tbody>\n",
       "</table>\n",
       "</div>"
      ],
      "text/plain": [
       "Symbols            SPY         IWM         MDY         QQQ  Short         TLT\n",
       "Date                                                                         \n",
       "2020-09-01  326.754822  147.359680  333.359344  275.666809    1.0  159.496613\n",
       "2020-10-01  319.883026  151.180176  341.703217  267.272949    1.0  154.111649\n",
       "2020-11-01  354.678833  178.761749  390.560272  297.276459    1.0  156.670059\n",
       "2020-12-01  366.257874  193.614120  414.381927  311.286041    1.0  154.593811\n",
       "2021-01-01  364.070923  203.629059  421.797546  312.665283    1.0  149.285217"
      ]
     },
     "execution_count": 5,
     "metadata": {},
     "output_type": "execute_result"
    }
   ],
   "source": [
    "data.tail()"
   ]
  },
  {
   "cell_type": "markdown",
   "metadata": {},
   "source": [
    "When we create our strategy, we should also have the option to hold cash. This can be modeled by adding a column with no growth."
   ]
  },
  {
   "cell_type": "code",
   "execution_count": 4,
   "metadata": {},
   "outputs": [],
   "source": [
    "data['Short'] = 1.0\n",
    "data = data[['SPY','IWM','MDY','QQQ','Short','TLT']]\n"
   ]
  },
  {
   "cell_type": "code",
   "execution_count": 6,
   "metadata": {},
   "outputs": [],
   "source": [
    "log_returns = np.log(data/data.shift())"
   ]
  },
  {
   "cell_type": "markdown",
   "metadata": {},
   "source": [
    "Now we need to find the return of the 12% solution.\n",
    "We need to figure out which assets retuned the most in the last 3 months"
   ]
  },
  {
   "cell_type": "code",
   "execution_count": 8,
   "metadata": {},
   "outputs": [],
   "source": [
    "strat = log_returns[['SPY','IWM','MDY','QQQ','Short']].copy()\n",
    "rolling_sum = strat.copy()\n",
    "\n",
    "for ticker in ['SPY','IWM','MDY','QQQ','Short']:\n",
    "    rolling_sum[ticker] = rolling_sum[ticker].rolling(3).sum()"
   ]
  },
  {
   "cell_type": "markdown",
   "metadata": {},
   "source": [
    "We simply calculate the rolling sum over the last 3 months for all of them. Notice, we have excluded TLT from our calculations, as it will only have a 40% holding and not change."
   ]
  },
  {
   "cell_type": "code",
   "execution_count": 11,
   "metadata": {},
   "outputs": [],
   "source": [
    "rtn = strat[rolling_sum.apply(lambda x: x== rolling_sum.max(axis=1)).shift()].sum(axis=1)*.6\n",
    "rtn = rtn + log_returns['TLT']*.4"
   ]
  },
  {
   "cell_type": "code",
   "execution_count": 12,
   "metadata": {},
   "outputs": [
    {
     "data": {
      "text/plain": [
       "Date\n",
       "2007-01-01         NaN\n",
       "2007-02-01    0.011706\n",
       "2007-03-01   -0.006759\n",
       "2007-04-01    0.003648\n",
       "2007-05-01    0.020673\n",
       "                ...   \n",
       "2020-09-01   -0.032639\n",
       "2020-10-01   -0.032292\n",
       "2020-11-01    0.107135\n",
       "2020-12-01    0.042552\n",
       "2021-01-01    0.016283\n",
       "Length: 169, dtype: float64"
      ]
     },
     "execution_count": 12,
     "metadata": {},
     "output_type": "execute_result"
    }
   ],
   "source": [
    "rtn"
   ]
  },
  {
   "cell_type": "markdown",
   "metadata": {},
   "source": [
    "Project – Backtesting the 12% solution"
   ]
  },
  {
   "cell_type": "code",
   "execution_count": 13,
   "metadata": {},
   "outputs": [],
   "source": [
    "def calculate(log_returns,start,end):\n",
    "    years = int(end) - int(start) +1\n",
    "\n",
    "    data = log_returns.loc[start:end]\n",
    "\n",
    "    cagr = np.exp(data.sum())**(1/years) - 1\n",
    "\n",
    "    norm = data.cumsum().apply(np.exp)\n",
    "\n",
    "    rolling_max = norm.cummax()\n",
    "    monthly_drawdown = norm/rolling_max - 1\n",
    "    drawdown = monthly_drawdown.cummin().iloc[-1]\n",
    "\n",
    "    volatality = data.std()*(12**.5)\n",
    "\n",
    "    return cagr,drawdown,volatality"
   ]
  },
  {
   "cell_type": "code",
   "execution_count": 14,
   "metadata": {},
   "outputs": [],
   "source": [
    "def visualize(backtest, spy, start, end):\n",
    "    def x_titles(spy_val, bt_val):\n",
    "        spy_str = str(round(spy_val*100,1))\n",
    "        bt_str = str(round(bt_val*100,1))\n",
    "        return ['SPY\\n' + spy_str + '%', 'Backtest\\n'+ bt_str + '%']\n",
    "\n",
    "    spy_cagr,spy_drawdown,spy_vol = calculate(spy,start,end)\n",
    "    bt_cagr, bt_drawdown, bt_vol = calculate(backtest, start, end)\n",
    "\n",
    "    fig,ax = plt.subplots(2,2)\n",
    "\n",
    "    spy.loc[start:end].cumsum().apply(np.exp).plot(ax=ax[0 ,0]) \n",
    "    backtest.loc[start:end].cumsum().apply(np.exp).plot(ax=ax[0,0], label = 'Backtest', c='c')\n",
    "    ax[0,0].legend()\n",
    "\n",
    "    x = x_titles(spy_cagr,bt_cagr)\n",
    "    ax[0,1].bar(x,[spy_cagr,bt_cagr],color=['b','c'])\n",
    "    ax[0,1].set_title('CAGR')\n",
    "\n",
    "    x = x_titles(spy_drawdown,bt_drawdown)\n",
    "    ax[1,0].bar(x,[spy_drawdown,bt_drawdown],color=['b','c'])\n",
    "    ax[1,0].set_title('Drawdown')\n",
    "\n",
    "    x = x_titles(spy_vol,bt_vol)\n",
    "    ax[1,1].bar(x,[spy_vol,bt_vol],color=['b','c'])\n",
    "    ax[1,1].set_title('Volatality')\n",
    "\n",
    "    plt.tight_layout()\n"
   ]
  },
  {
   "cell_type": "markdown",
   "metadata": {},
   "source": [
    "Let’s do some backtesting. First for the period 2008 and 10 years forward."
   ]
  },
  {
   "cell_type": "code",
   "execution_count": 15,
   "metadata": {},
   "outputs": [
    {
     "data": {
      "image/png": "[encoded data removed]",
      "text/plain": [
       "<Figure size 432x288 with 4 Axes>"
      ]
     },
     "metadata": {
      "needs_background": "light"
     },
     "output_type": "display_data"
    }
   ],
   "source": [
    "visualize(rtn, log_returns['SPY'],'2008','2017')"
   ]
  },
  {
   "cell_type": "markdown",
   "metadata": {},
   "source": [
    "A return of 10.2%, a low maximum drawdown (7.2%) and low volatility (8.0%)."
   ]
  },
  {
   "cell_type": "code",
   "execution_count": 16,
   "metadata": {},
   "outputs": [
    {
     "data": {
      "image/png": "[encoded data removed]",
      "text/plain": [
       "<Figure size 432x288 with 4 Axes>"
      ]
     },
     "metadata": {
      "needs_background": "light"
     },
     "output_type": "display_data"
    }
   ],
   "source": [
    "visualize(rtn, log_returns['SPY'],'2011','2020')"
   ]
  },
  {
   "cell_type": "markdown",
   "metadata": {},
   "source": [
    "A return of 11.7%, though during this 10-year period the SPY returned 13.8% (calculated on a monthly basis). Low drawdown and volatility"
   ]
  }
 ],
 "metadata": {
  "interpreter": {
   "hash": "1e915f0a29dc84041eaeb02b7b1a21c440e37a87b61d44d5e84a515737dc82bc"
  },
  "kernelspec": {
   "display_name": "Python 3.7.6 ('base')",
   "language": "python",
   "name": "python3"
  },
  "language_info": {
   "codemirror_mode": {
    "name": "ipython",
    "version": 3
   },
   "file_extension": ".py",
   "mimetype": "text/x-python",
   "name": "python",
   "nbconvert_exporter": "python",
   "pygments_lexer": "ipython3",
   "version": "3.7.6"
  },
  "orig_nbformat": 4
 },
 "nbformat": 4,
 "nbformat_minor": 2
}
