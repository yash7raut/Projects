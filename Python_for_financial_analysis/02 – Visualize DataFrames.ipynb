{
 "cells": [
  {
   "cell_type": "markdown",
   "metadata": {},
   "source": [
    "Visualize historic stock prices on a chart using Matplotlib, as well as values calculated and added to the DataFrames"
   ]
  },
  {
   "cell_type": "code",
   "execution_count": 13,
   "metadata": {},
   "outputs": [],
   "source": [
    "import pandas as pd\n",
    "import matplotlib.pyplot as plt\n",
    "%matplotlib inline"
   ]
  },
  {
   "cell_type": "code",
   "execution_count": 14,
   "metadata": {},
   "outputs": [
    {
     "data": {
      "text/html": [
       "<div>\n",
       "<style scoped>\n",
       "    .dataframe tbody tr th:only-of-type {\n",
       "        vertical-align: middle;\n",
       "    }\n",
       "\n",
       "    .dataframe tbody tr th {\n",
       "        vertical-align: top;\n",
       "    }\n",
       "\n",
       "    .dataframe thead th {\n",
       "        text-align: right;\n",
       "    }\n",
       "</style>\n",
       "<table border=\"1\" class=\"dataframe\">\n",
       "  <thead>\n",
       "    <tr style=\"text-align: right;\">\n",
       "      <th></th>\n",
       "      <th>Open</th>\n",
       "      <th>High</th>\n",
       "      <th>Low</th>\n",
       "      <th>Close</th>\n",
       "      <th>Adj Close</th>\n",
       "      <th>Volume</th>\n",
       "    </tr>\n",
       "    <tr>\n",
       "      <th>Date</th>\n",
       "      <th></th>\n",
       "      <th></th>\n",
       "      <th></th>\n",
       "      <th></th>\n",
       "      <th></th>\n",
       "      <th></th>\n",
       "    </tr>\n",
       "  </thead>\n",
       "  <tbody>\n",
       "    <tr>\n",
       "      <th>2016-03-09</th>\n",
       "      <td>25.327499</td>\n",
       "      <td>25.395000</td>\n",
       "      <td>25.067499</td>\n",
       "      <td>25.280001</td>\n",
       "      <td>23.513155</td>\n",
       "      <td>108806800</td>\n",
       "    </tr>\n",
       "    <tr>\n",
       "      <th>2016-03-10</th>\n",
       "      <td>25.352501</td>\n",
       "      <td>25.559999</td>\n",
       "      <td>25.037500</td>\n",
       "      <td>25.292500</td>\n",
       "      <td>23.524775</td>\n",
       "      <td>134054400</td>\n",
       "    </tr>\n",
       "    <tr>\n",
       "      <th>2016-03-11</th>\n",
       "      <td>25.559999</td>\n",
       "      <td>25.570000</td>\n",
       "      <td>25.375000</td>\n",
       "      <td>25.565001</td>\n",
       "      <td>23.778234</td>\n",
       "      <td>109632800</td>\n",
       "    </tr>\n",
       "    <tr>\n",
       "      <th>2016-03-14</th>\n",
       "      <td>25.477501</td>\n",
       "      <td>25.727501</td>\n",
       "      <td>25.445000</td>\n",
       "      <td>25.629999</td>\n",
       "      <td>23.838688</td>\n",
       "      <td>100304400</td>\n",
       "    </tr>\n",
       "    <tr>\n",
       "      <th>2016-03-15</th>\n",
       "      <td>25.990000</td>\n",
       "      <td>26.295000</td>\n",
       "      <td>25.962500</td>\n",
       "      <td>26.145000</td>\n",
       "      <td>24.317701</td>\n",
       "      <td>160270800</td>\n",
       "    </tr>\n",
       "  </tbody>\n",
       "</table>\n",
       "</div>"
      ],
      "text/plain": [
       "                 Open       High        Low      Close  Adj Close     Volume\n",
       "Date                                                                        \n",
       "2016-03-09  25.327499  25.395000  25.067499  25.280001  23.513155  108806800\n",
       "2016-03-10  25.352501  25.559999  25.037500  25.292500  23.524775  134054400\n",
       "2016-03-11  25.559999  25.570000  25.375000  25.565001  23.778234  109632800\n",
       "2016-03-14  25.477501  25.727501  25.445000  25.629999  23.838688  100304400\n",
       "2016-03-15  25.990000  26.295000  25.962500  26.145000  24.317701  160270800"
      ]
     },
     "execution_count": 14,
     "metadata": {},
     "output_type": "execute_result"
    }
   ],
   "source": [
    "csv_file= \"https://raw.githubusercontent.com/LearnPythonWithRune/PythonForFinancialAnalysis/main/AAPL.csv\"\n",
    "\n",
    "aapl=pd.read_csv(csv_file,index_col='Date',parse_dates=True)\n",
    "aapl.head()"
   ]
  },
  {
   "cell_type": "code",
   "execution_count": 15,
   "metadata": {},
   "outputs": [
    {
     "data": {
      "text/html": [
       "<div>\n",
       "<style scoped>\n",
       "    .dataframe tbody tr th:only-of-type {\n",
       "        vertical-align: middle;\n",
       "    }\n",
       "\n",
       "    .dataframe tbody tr th {\n",
       "        vertical-align: top;\n",
       "    }\n",
       "\n",
       "    .dataframe thead th {\n",
       "        text-align: right;\n",
       "    }\n",
       "</style>\n",
       "<table border=\"1\" class=\"dataframe\">\n",
       "  <thead>\n",
       "    <tr style=\"text-align: right;\">\n",
       "      <th></th>\n",
       "      <th>Open</th>\n",
       "      <th>High</th>\n",
       "      <th>Low</th>\n",
       "      <th>Close</th>\n",
       "      <th>Adj Close</th>\n",
       "      <th>Volume</th>\n",
       "    </tr>\n",
       "    <tr>\n",
       "      <th>Date</th>\n",
       "      <th></th>\n",
       "      <th></th>\n",
       "      <th></th>\n",
       "      <th></th>\n",
       "      <th></th>\n",
       "      <th></th>\n",
       "    </tr>\n",
       "  </thead>\n",
       "  <tbody>\n",
       "    <tr>\n",
       "      <th>2021-03-02</th>\n",
       "      <td>128.410004</td>\n",
       "      <td>128.720001</td>\n",
       "      <td>125.010002</td>\n",
       "      <td>125.120003</td>\n",
       "      <td>125.120003</td>\n",
       "      <td>102015300</td>\n",
       "    </tr>\n",
       "    <tr>\n",
       "      <th>2021-03-03</th>\n",
       "      <td>124.809998</td>\n",
       "      <td>125.709999</td>\n",
       "      <td>121.839996</td>\n",
       "      <td>122.059998</td>\n",
       "      <td>122.059998</td>\n",
       "      <td>112430400</td>\n",
       "    </tr>\n",
       "    <tr>\n",
       "      <th>2021-03-04</th>\n",
       "      <td>121.750000</td>\n",
       "      <td>123.599998</td>\n",
       "      <td>118.620003</td>\n",
       "      <td>120.129997</td>\n",
       "      <td>120.129997</td>\n",
       "      <td>177275300</td>\n",
       "    </tr>\n",
       "    <tr>\n",
       "      <th>2021-03-05</th>\n",
       "      <td>120.980003</td>\n",
       "      <td>121.940002</td>\n",
       "      <td>117.570000</td>\n",
       "      <td>121.419998</td>\n",
       "      <td>121.419998</td>\n",
       "      <td>153590400</td>\n",
       "    </tr>\n",
       "    <tr>\n",
       "      <th>2021-03-08</th>\n",
       "      <td>120.930000</td>\n",
       "      <td>121.000000</td>\n",
       "      <td>116.209999</td>\n",
       "      <td>116.360001</td>\n",
       "      <td>116.360001</td>\n",
       "      <td>153918600</td>\n",
       "    </tr>\n",
       "  </tbody>\n",
       "</table>\n",
       "</div>"
      ],
      "text/plain": [
       "                  Open        High         Low       Close   Adj Close  \\\n",
       "Date                                                                     \n",
       "2021-03-02  128.410004  128.720001  125.010002  125.120003  125.120003   \n",
       "2021-03-03  124.809998  125.709999  121.839996  122.059998  122.059998   \n",
       "2021-03-04  121.750000  123.599998  118.620003  120.129997  120.129997   \n",
       "2021-03-05  120.980003  121.940002  117.570000  121.419998  121.419998   \n",
       "2021-03-08  120.930000  121.000000  116.209999  116.360001  116.360001   \n",
       "\n",
       "               Volume  \n",
       "Date                   \n",
       "2021-03-02  102015300  \n",
       "2021-03-03  112430400  \n",
       "2021-03-04  177275300  \n",
       "2021-03-05  153590400  \n",
       "2021-03-08  153918600  "
      ]
     },
     "execution_count": 15,
     "metadata": {},
     "output_type": "execute_result"
    }
   ],
   "source": [
    "aapl.tail()"
   ]
  },
  {
   "cell_type": "code",
   "execution_count": 16,
   "metadata": {},
   "outputs": [
    {
     "data": {
      "text/plain": [
       "<matplotlib.axes._subplots.AxesSubplot at 0x201f7191c88>"
      ]
     },
     "execution_count": 16,
     "metadata": {},
     "output_type": "execute_result"
    },
    {
     "data": {
      "image/png": "[encoded data removed]",
      "text/plain": [
       "<Figure size 432x288 with 1 Axes>"
      ]
     },
     "metadata": {
      "needs_background": "light"
     },
     "output_type": "display_data"
    }
   ],
   "source": [
    "\n",
    "fig, ax = plt.subplots()\n",
    "aapl['Close'].plot(ax=ax)"
   ]
  },
  {
   "cell_type": "markdown",
   "metadata": {},
   "source": [
    "simple moving average"
   ]
  },
  {
   "cell_type": "code",
   "execution_count": 17,
   "metadata": {},
   "outputs": [],
   "source": [
    "aapl['MA20'] = aapl['Close'].rolling(20).mean()\n",
    "aapl['MA200'] = aapl['Close'].rolling(200).mean()"
   ]
  },
  {
   "cell_type": "code",
   "execution_count": 18,
   "metadata": {},
   "outputs": [
    {
     "data": {
      "text/plain": [
       "<matplotlib.axes._subplots.AxesSubplot at 0x201f81c7308>"
      ]
     },
     "execution_count": 18,
     "metadata": {},
     "output_type": "execute_result"
    },
    {
     "data": {
      "image/png": "[encoded data removed]",
      "text/plain": [
       "<Figure size 432x288 with 1 Axes>"
      ]
     },
     "metadata": {
      "needs_background": "light"
     },
     "output_type": "display_data"
    }
   ],
   "source": [
    "fig, ax = plt.subplots()\n",
    "aapl[['MA20','MA200','Close']].plot(ax=ax)"
   ]
  },
  {
   "cell_type": "markdown",
   "metadata": {},
   "source": [
    "If you are only interested in the historic stock prices from the beginning of 2020 and forward."
   ]
  },
  {
   "cell_type": "code",
   "execution_count": 19,
   "metadata": {},
   "outputs": [
    {
     "data": {
      "text/plain": [
       "<matplotlib.axes._subplots.AxesSubplot at 0x201f824fd08>"
      ]
     },
     "execution_count": 19,
     "metadata": {},
     "output_type": "execute_result"
    },
    {
     "data": {
      "image/png": "[encoded data removed]",
      "text/plain": [
       "<Figure size 432x288 with 1 Axes>"
      ]
     },
     "metadata": {
      "needs_background": "light"
     },
     "output_type": "display_data"
    }
   ],
   "source": [
    "fig, ax = plt.subplots()\n",
    "aapl[['MA20','MA200','Close']].loc['2020':].plot(ax=ax)"
   ]
  },
  {
   "cell_type": "markdown",
   "metadata": {},
   "source": [
    "If you are only interested in the historic stock prices from the beginning of 2018 and forward."
   ]
  },
  {
   "cell_type": "code",
   "execution_count": 20,
   "metadata": {},
   "outputs": [
    {
     "data": {
      "text/plain": [
       "<matplotlib.axes._subplots.AxesSubplot at 0x201f82e1508>"
      ]
     },
     "execution_count": 20,
     "metadata": {},
     "output_type": "execute_result"
    },
    {
     "data": {
      "image/png": "[encoded data removed]",
      "text/plain": [
       "<Figure size 432x288 with 1 Axes>"
      ]
     },
     "metadata": {
      "needs_background": "light"
     },
     "output_type": "display_data"
    }
   ],
   "source": [
    "fig, ax = plt.subplots()\n",
    "aapl[['MA20','MA200','Close']].loc['2018':].plot(ax=ax)"
   ]
  },
  {
   "cell_type": "code",
   "execution_count": 28,
   "metadata": {},
   "outputs": [
    {
     "data": {
      "image/png": "[encoded data removed]",
      "text/plain": [
       "<Figure size 432x288 with 4 Axes>"
      ]
     },
     "metadata": {
      "needs_background": "light"
     },
     "output_type": "display_data"
    }
   ],
   "source": [
    "fig, ax = plt.subplots(2, 2)\n",
    "aapl['Open'].loc['2020':].plot(ax=ax[0, 0], c='r')\n",
    "aapl['Close'].loc['2020':].plot(ax=ax[0, 1], c='g')\n",
    "aapl['High'].loc['2020':].plot(ax=ax[1, 0], c='c')\n",
    "aapl['Low'].loc['2020':].plot(ax=ax[1, 1], c='y')\n",
    "ax[0, 0].legend()\n",
    "ax[0, 1].legend()\n",
    "ax[1, 0].legend()\n",
    "ax[1, 1].legend()\n",
    "plt.tight_layout()"
   ]
  },
  {
   "cell_type": "markdown",
   "metadata": {},
   "source": [
    "Project – Compare two investments"
   ]
  },
  {
   "cell_type": "markdown",
   "metadata": {},
   "source": [
    "In this project we will compare two investments and visualize it. We will compare an investment in TCS to an investment in INFOSYS in 2020. That is, if you invested money in TCS on the first trading day in 2020 and sold it all on the first trading day in 2021. How would that compare if you had invested it in INFOSYS instead."
   ]
  },
  {
   "cell_type": "code",
   "execution_count": 29,
   "metadata": {},
   "outputs": [],
   "source": [
    "import pandas_datareader as pdr\n",
    "import datetime as dt"
   ]
  },
  {
   "cell_type": "code",
   "execution_count": 31,
   "metadata": {},
   "outputs": [],
   "source": [
    "tickers = ['TCS.NS','INFY.NS']\n",
    "start = dt.datetime(2020,1,1)\n",
    "end = dt.datetime(2021,1,1)\n",
    "data = pdr.get_data_yahoo(tickers, start, end)"
   ]
  },
  {
   "cell_type": "code",
   "execution_count": 33,
   "metadata": {},
   "outputs": [
    {
     "data": {
      "text/html": [
       "<div>\n",
       "<style scoped>\n",
       "    .dataframe tbody tr th:only-of-type {\n",
       "        vertical-align: middle;\n",
       "    }\n",
       "\n",
       "    .dataframe tbody tr th {\n",
       "        vertical-align: top;\n",
       "    }\n",
       "\n",
       "    .dataframe thead tr th {\n",
       "        text-align: left;\n",
       "    }\n",
       "\n",
       "    .dataframe thead tr:last-of-type th {\n",
       "        text-align: right;\n",
       "    }\n",
       "</style>\n",
       "<table border=\"1\" class=\"dataframe\">\n",
       "  <thead>\n",
       "    <tr>\n",
       "      <th>Attributes</th>\n",
       "      <th colspan=\"2\" halign=\"left\">Adj Close</th>\n",
       "      <th colspan=\"2\" halign=\"left\">Close</th>\n",
       "      <th colspan=\"2\" halign=\"left\">High</th>\n",
       "      <th colspan=\"2\" halign=\"left\">Low</th>\n",
       "      <th colspan=\"2\" halign=\"left\">Open</th>\n",
       "      <th colspan=\"2\" halign=\"left\">Volume</th>\n",
       "    </tr>\n",
       "    <tr>\n",
       "      <th>Symbols</th>\n",
       "      <th>TCS.NS</th>\n",
       "      <th>INFY.NS</th>\n",
       "      <th>TCS.NS</th>\n",
       "      <th>INFY.NS</th>\n",
       "      <th>TCS.NS</th>\n",
       "      <th>INFY.NS</th>\n",
       "      <th>TCS.NS</th>\n",
       "      <th>INFY.NS</th>\n",
       "      <th>TCS.NS</th>\n",
       "      <th>INFY.NS</th>\n",
       "      <th>TCS.NS</th>\n",
       "      <th>INFY.NS</th>\n",
       "    </tr>\n",
       "    <tr>\n",
       "      <th>Date</th>\n",
       "      <th></th>\n",
       "      <th></th>\n",
       "      <th></th>\n",
       "      <th></th>\n",
       "      <th></th>\n",
       "      <th></th>\n",
       "      <th></th>\n",
       "      <th></th>\n",
       "      <th></th>\n",
       "      <th></th>\n",
       "      <th></th>\n",
       "      <th></th>\n",
       "    </tr>\n",
       "  </thead>\n",
       "  <tbody>\n",
       "    <tr>\n",
       "      <th>2020-01-01</th>\n",
       "      <td>2100.150146</td>\n",
       "      <td>705.299194</td>\n",
       "      <td>2167.600098</td>\n",
       "      <td>736.849976</td>\n",
       "      <td>2183.899902</td>\n",
       "      <td>740.000000</td>\n",
       "      <td>2154.000000</td>\n",
       "      <td>732.549988</td>\n",
       "      <td>2168.000000</td>\n",
       "      <td>735.000000</td>\n",
       "      <td>1354908.0</td>\n",
       "      <td>2112415.0</td>\n",
       "    </tr>\n",
       "    <tr>\n",
       "      <th>2020-01-02</th>\n",
       "      <td>2090.509766</td>\n",
       "      <td>703.241211</td>\n",
       "      <td>2157.649902</td>\n",
       "      <td>734.700012</td>\n",
       "      <td>2179.949951</td>\n",
       "      <td>740.799988</td>\n",
       "      <td>2149.199951</td>\n",
       "      <td>730.900024</td>\n",
       "      <td>2179.949951</td>\n",
       "      <td>738.900024</td>\n",
       "      <td>2380752.0</td>\n",
       "      <td>5658200.0</td>\n",
       "    </tr>\n",
       "    <tr>\n",
       "      <th>2020-01-03</th>\n",
       "      <td>2132.171631</td>\n",
       "      <td>714.057434</td>\n",
       "      <td>2200.649902</td>\n",
       "      <td>746.000000</td>\n",
       "      <td>2223.000000</td>\n",
       "      <td>748.000000</td>\n",
       "      <td>2164.000000</td>\n",
       "      <td>733.900024</td>\n",
       "      <td>2164.000000</td>\n",
       "      <td>733.900024</td>\n",
       "      <td>4655761.0</td>\n",
       "      <td>7882938.0</td>\n",
       "    </tr>\n",
       "    <tr>\n",
       "      <th>2020-01-06</th>\n",
       "      <td>2131.977783</td>\n",
       "      <td>707.213562</td>\n",
       "      <td>2200.449951</td>\n",
       "      <td>738.849976</td>\n",
       "      <td>2225.949951</td>\n",
       "      <td>753.799988</td>\n",
       "      <td>2187.899902</td>\n",
       "      <td>736.500000</td>\n",
       "      <td>2205.000000</td>\n",
       "      <td>746.099976</td>\n",
       "      <td>3023209.0</td>\n",
       "      <td>6519403.0</td>\n",
       "    </tr>\n",
       "    <tr>\n",
       "      <th>2020-01-07</th>\n",
       "      <td>2137.209717</td>\n",
       "      <td>696.732422</td>\n",
       "      <td>2205.850098</td>\n",
       "      <td>727.900024</td>\n",
       "      <td>2214.649902</td>\n",
       "      <td>742.599976</td>\n",
       "      <td>2183.800049</td>\n",
       "      <td>725.099976</td>\n",
       "      <td>2200.500000</td>\n",
       "      <td>738.000000</td>\n",
       "      <td>2429317.0</td>\n",
       "      <td>7899363.0</td>\n",
       "    </tr>\n",
       "  </tbody>\n",
       "</table>\n",
       "</div>"
      ],
      "text/plain": [
       "Attributes    Adj Close                    Close                     High  \\\n",
       "Symbols          TCS.NS     INFY.NS       TCS.NS     INFY.NS       TCS.NS   \n",
       "Date                                                                        \n",
       "2020-01-01  2100.150146  705.299194  2167.600098  736.849976  2183.899902   \n",
       "2020-01-02  2090.509766  703.241211  2157.649902  734.700012  2179.949951   \n",
       "2020-01-03  2132.171631  714.057434  2200.649902  746.000000  2223.000000   \n",
       "2020-01-06  2131.977783  707.213562  2200.449951  738.849976  2225.949951   \n",
       "2020-01-07  2137.209717  696.732422  2205.850098  727.900024  2214.649902   \n",
       "\n",
       "Attributes                      Low                     Open              \\\n",
       "Symbols        INFY.NS       TCS.NS     INFY.NS       TCS.NS     INFY.NS   \n",
       "Date                                                                       \n",
       "2020-01-01  740.000000  2154.000000  732.549988  2168.000000  735.000000   \n",
       "2020-01-02  740.799988  2149.199951  730.900024  2179.949951  738.900024   \n",
       "2020-01-03  748.000000  2164.000000  733.900024  2164.000000  733.900024   \n",
       "2020-01-06  753.799988  2187.899902  736.500000  2205.000000  746.099976   \n",
       "2020-01-07  742.599976  2183.800049  725.099976  2200.500000  738.000000   \n",
       "\n",
       "Attributes     Volume             \n",
       "Symbols        TCS.NS    INFY.NS  \n",
       "Date                              \n",
       "2020-01-01  1354908.0  2112415.0  \n",
       "2020-01-02  2380752.0  5658200.0  \n",
       "2020-01-03  4655761.0  7882938.0  \n",
       "2020-01-06  3023209.0  6519403.0  \n",
       "2020-01-07  2429317.0  7899363.0  "
      ]
     },
     "execution_count": 33,
     "metadata": {},
     "output_type": "execute_result"
    }
   ],
   "source": [
    "data.head()"
   ]
  },
  {
   "cell_type": "code",
   "execution_count": 32,
   "metadata": {},
   "outputs": [
    {
     "data": {
      "text/html": [
       "<div>\n",
       "<style scoped>\n",
       "    .dataframe tbody tr th:only-of-type {\n",
       "        vertical-align: middle;\n",
       "    }\n",
       "\n",
       "    .dataframe tbody tr th {\n",
       "        vertical-align: top;\n",
       "    }\n",
       "\n",
       "    .dataframe thead tr th {\n",
       "        text-align: left;\n",
       "    }\n",
       "\n",
       "    .dataframe thead tr:last-of-type th {\n",
       "        text-align: right;\n",
       "    }\n",
       "</style>\n",
       "<table border=\"1\" class=\"dataframe\">\n",
       "  <thead>\n",
       "    <tr>\n",
       "      <th>Attributes</th>\n",
       "      <th colspan=\"2\" halign=\"left\">Adj Close</th>\n",
       "      <th colspan=\"2\" halign=\"left\">Close</th>\n",
       "      <th colspan=\"2\" halign=\"left\">High</th>\n",
       "      <th colspan=\"2\" halign=\"left\">Low</th>\n",
       "      <th colspan=\"2\" halign=\"left\">Open</th>\n",
       "      <th colspan=\"2\" halign=\"left\">Volume</th>\n",
       "    </tr>\n",
       "    <tr>\n",
       "      <th>Symbols</th>\n",
       "      <th>TCS.NS</th>\n",
       "      <th>INFY.NS</th>\n",
       "      <th>TCS.NS</th>\n",
       "      <th>INFY.NS</th>\n",
       "      <th>TCS.NS</th>\n",
       "      <th>INFY.NS</th>\n",
       "      <th>TCS.NS</th>\n",
       "      <th>INFY.NS</th>\n",
       "      <th>TCS.NS</th>\n",
       "      <th>INFY.NS</th>\n",
       "      <th>TCS.NS</th>\n",
       "      <th>INFY.NS</th>\n",
       "    </tr>\n",
       "    <tr>\n",
       "      <th>Date</th>\n",
       "      <th></th>\n",
       "      <th></th>\n",
       "      <th></th>\n",
       "      <th></th>\n",
       "      <th></th>\n",
       "      <th></th>\n",
       "      <th></th>\n",
       "      <th></th>\n",
       "      <th></th>\n",
       "      <th></th>\n",
       "      <th></th>\n",
       "      <th></th>\n",
       "    </tr>\n",
       "  </thead>\n",
       "  <tbody>\n",
       "    <tr>\n",
       "      <th>2020-12-28</th>\n",
       "      <td>2892.624512</td>\n",
       "      <td>1216.279663</td>\n",
       "      <td>2929.399902</td>\n",
       "      <td>1240.300049</td>\n",
       "      <td>2949.699951</td>\n",
       "      <td>1248.000000</td>\n",
       "      <td>2902.0</td>\n",
       "      <td>1236.000000</td>\n",
       "      <td>2910.000000</td>\n",
       "      <td>1238.449951</td>\n",
       "      <td>2108994.0</td>\n",
       "      <td>4607051.0</td>\n",
       "    </tr>\n",
       "    <tr>\n",
       "      <th>2020-12-29</th>\n",
       "      <td>2893.710449</td>\n",
       "      <td>1226.086060</td>\n",
       "      <td>2930.500000</td>\n",
       "      <td>1250.300049</td>\n",
       "      <td>2952.000000</td>\n",
       "      <td>1254.449951</td>\n",
       "      <td>2920.0</td>\n",
       "      <td>1235.000000</td>\n",
       "      <td>2920.000000</td>\n",
       "      <td>1235.000000</td>\n",
       "      <td>1994151.0</td>\n",
       "      <td>6878105.0</td>\n",
       "    </tr>\n",
       "    <tr>\n",
       "      <th>2020-12-30</th>\n",
       "      <td>2872.776855</td>\n",
       "      <td>1222.653931</td>\n",
       "      <td>2909.300049</td>\n",
       "      <td>1246.800049</td>\n",
       "      <td>2947.699951</td>\n",
       "      <td>1253.300049</td>\n",
       "      <td>2902.0</td>\n",
       "      <td>1238.150024</td>\n",
       "      <td>2934.399902</td>\n",
       "      <td>1253.000000</td>\n",
       "      <td>2637968.0</td>\n",
       "      <td>5194690.0</td>\n",
       "    </tr>\n",
       "    <tr>\n",
       "      <th>2020-12-31</th>\n",
       "      <td>2826.811523</td>\n",
       "      <td>1231.479614</td>\n",
       "      <td>2862.750000</td>\n",
       "      <td>1255.800049</td>\n",
       "      <td>2905.000000</td>\n",
       "      <td>1258.400024</td>\n",
       "      <td>2845.0</td>\n",
       "      <td>1239.000000</td>\n",
       "      <td>2900.000000</td>\n",
       "      <td>1243.000000</td>\n",
       "      <td>4040956.0</td>\n",
       "      <td>7430470.0</td>\n",
       "    </tr>\n",
       "    <tr>\n",
       "      <th>2021-01-01</th>\n",
       "      <td>2891.489014</td>\n",
       "      <td>1236.039429</td>\n",
       "      <td>2928.250000</td>\n",
       "      <td>1260.449951</td>\n",
       "      <td>2940.000000</td>\n",
       "      <td>1265.500000</td>\n",
       "      <td>2879.0</td>\n",
       "      <td>1255.800049</td>\n",
       "      <td>2880.000000</td>\n",
       "      <td>1257.900024</td>\n",
       "      <td>2681440.0</td>\n",
       "      <td>4253550.0</td>\n",
       "    </tr>\n",
       "  </tbody>\n",
       "</table>\n",
       "</div>"
      ],
      "text/plain": [
       "Attributes    Adj Close                     Close                      High  \\\n",
       "Symbols          TCS.NS      INFY.NS       TCS.NS      INFY.NS       TCS.NS   \n",
       "Date                                                                          \n",
       "2020-12-28  2892.624512  1216.279663  2929.399902  1240.300049  2949.699951   \n",
       "2020-12-29  2893.710449  1226.086060  2930.500000  1250.300049  2952.000000   \n",
       "2020-12-30  2872.776855  1222.653931  2909.300049  1246.800049  2947.699951   \n",
       "2020-12-31  2826.811523  1231.479614  2862.750000  1255.800049  2905.000000   \n",
       "2021-01-01  2891.489014  1236.039429  2928.250000  1260.449951  2940.000000   \n",
       "\n",
       "Attributes                  Low                      Open               \\\n",
       "Symbols         INFY.NS  TCS.NS      INFY.NS       TCS.NS      INFY.NS   \n",
       "Date                                                                     \n",
       "2020-12-28  1248.000000  2902.0  1236.000000  2910.000000  1238.449951   \n",
       "2020-12-29  1254.449951  2920.0  1235.000000  2920.000000  1235.000000   \n",
       "2020-12-30  1253.300049  2902.0  1238.150024  2934.399902  1253.000000   \n",
       "2020-12-31  1258.400024  2845.0  1239.000000  2900.000000  1243.000000   \n",
       "2021-01-01  1265.500000  2879.0  1255.800049  2880.000000  1257.900024   \n",
       "\n",
       "Attributes     Volume             \n",
       "Symbols        TCS.NS    INFY.NS  \n",
       "Date                              \n",
       "2020-12-28  2108994.0  4607051.0  \n",
       "2020-12-29  1994151.0  6878105.0  \n",
       "2020-12-30  2637968.0  5194690.0  \n",
       "2020-12-31  4040956.0  7430470.0  \n",
       "2021-01-01  2681440.0  4253550.0  "
      ]
     },
     "execution_count": 32,
     "metadata": {},
     "output_type": "execute_result"
    }
   ],
   "source": [
    "data.tail()"
   ]
  },
  {
   "cell_type": "markdown",
   "metadata": {},
   "source": [
    "We will compare the investments using the Adj Close (adjusted close) price, as it includes dividend payout and other corporate adjustments"
   ]
  },
  {
   "cell_type": "code",
   "execution_count": 34,
   "metadata": {},
   "outputs": [],
   "source": [
    "data = data['Adj Close']\n"
   ]
  },
  {
   "cell_type": "code",
   "execution_count": 35,
   "metadata": {},
   "outputs": [
    {
     "data": {
      "text/html": [
       "<div>\n",
       "<style scoped>\n",
       "    .dataframe tbody tr th:only-of-type {\n",
       "        vertical-align: middle;\n",
       "    }\n",
       "\n",
       "    .dataframe tbody tr th {\n",
       "        vertical-align: top;\n",
       "    }\n",
       "\n",
       "    .dataframe thead th {\n",
       "        text-align: right;\n",
       "    }\n",
       "</style>\n",
       "<table border=\"1\" class=\"dataframe\">\n",
       "  <thead>\n",
       "    <tr style=\"text-align: right;\">\n",
       "      <th>Symbols</th>\n",
       "      <th>TCS.NS</th>\n",
       "      <th>INFY.NS</th>\n",
       "    </tr>\n",
       "    <tr>\n",
       "      <th>Date</th>\n",
       "      <th></th>\n",
       "      <th></th>\n",
       "    </tr>\n",
       "  </thead>\n",
       "  <tbody>\n",
       "    <tr>\n",
       "      <th>2020-01-01</th>\n",
       "      <td>2100.150146</td>\n",
       "      <td>705.299194</td>\n",
       "    </tr>\n",
       "    <tr>\n",
       "      <th>2020-01-02</th>\n",
       "      <td>2090.509766</td>\n",
       "      <td>703.241211</td>\n",
       "    </tr>\n",
       "    <tr>\n",
       "      <th>2020-01-03</th>\n",
       "      <td>2132.171631</td>\n",
       "      <td>714.057434</td>\n",
       "    </tr>\n",
       "    <tr>\n",
       "      <th>2020-01-06</th>\n",
       "      <td>2131.977783</td>\n",
       "      <td>707.213562</td>\n",
       "    </tr>\n",
       "    <tr>\n",
       "      <th>2020-01-07</th>\n",
       "      <td>2137.209717</td>\n",
       "      <td>696.732422</td>\n",
       "    </tr>\n",
       "  </tbody>\n",
       "</table>\n",
       "</div>"
      ],
      "text/plain": [
       "Symbols          TCS.NS     INFY.NS\n",
       "Date                               \n",
       "2020-01-01  2100.150146  705.299194\n",
       "2020-01-02  2090.509766  703.241211\n",
       "2020-01-03  2132.171631  714.057434\n",
       "2020-01-06  2131.977783  707.213562\n",
       "2020-01-07  2137.209717  696.732422"
      ]
     },
     "execution_count": 35,
     "metadata": {},
     "output_type": "execute_result"
    }
   ],
   "source": [
    "data.head()"
   ]
  },
  {
   "cell_type": "code",
   "execution_count": 36,
   "metadata": {},
   "outputs": [],
   "source": [
    "norm = data/data.iloc[0]"
   ]
  },
  {
   "cell_type": "code",
   "execution_count": 38,
   "metadata": {},
   "outputs": [
    {
     "data": {
      "text/html": [
       "<div>\n",
       "<style scoped>\n",
       "    .dataframe tbody tr th:only-of-type {\n",
       "        vertical-align: middle;\n",
       "    }\n",
       "\n",
       "    .dataframe tbody tr th {\n",
       "        vertical-align: top;\n",
       "    }\n",
       "\n",
       "    .dataframe thead th {\n",
       "        text-align: right;\n",
       "    }\n",
       "</style>\n",
       "<table border=\"1\" class=\"dataframe\">\n",
       "  <thead>\n",
       "    <tr style=\"text-align: right;\">\n",
       "      <th>Symbols</th>\n",
       "      <th>TCS.NS</th>\n",
       "      <th>INFY.NS</th>\n",
       "    </tr>\n",
       "    <tr>\n",
       "      <th>Date</th>\n",
       "      <th></th>\n",
       "      <th></th>\n",
       "    </tr>\n",
       "  </thead>\n",
       "  <tbody>\n",
       "    <tr>\n",
       "      <th>2020-01-01</th>\n",
       "      <td>1.000000</td>\n",
       "      <td>1.000000</td>\n",
       "    </tr>\n",
       "    <tr>\n",
       "      <th>2020-01-02</th>\n",
       "      <td>0.995410</td>\n",
       "      <td>0.997082</td>\n",
       "    </tr>\n",
       "    <tr>\n",
       "      <th>2020-01-03</th>\n",
       "      <td>1.015247</td>\n",
       "      <td>1.012418</td>\n",
       "    </tr>\n",
       "    <tr>\n",
       "      <th>2020-01-06</th>\n",
       "      <td>1.015155</td>\n",
       "      <td>1.002714</td>\n",
       "    </tr>\n",
       "    <tr>\n",
       "      <th>2020-01-07</th>\n",
       "      <td>1.017646</td>\n",
       "      <td>0.987854</td>\n",
       "    </tr>\n",
       "  </tbody>\n",
       "</table>\n",
       "</div>"
      ],
      "text/plain": [
       "Symbols       TCS.NS   INFY.NS\n",
       "Date                          \n",
       "2020-01-01  1.000000  1.000000\n",
       "2020-01-02  0.995410  0.997082\n",
       "2020-01-03  1.015247  1.012418\n",
       "2020-01-06  1.015155  1.002714\n",
       "2020-01-07  1.017646  0.987854"
      ]
     },
     "execution_count": 38,
     "metadata": {},
     "output_type": "execute_result"
    }
   ],
   "source": [
    "norm.head()"
   ]
  },
  {
   "cell_type": "code",
   "execution_count": 39,
   "metadata": {},
   "outputs": [
    {
     "data": {
      "text/plain": [
       "<matplotlib.axes._subplots.AxesSubplot at 0x201f666a308>"
      ]
     },
     "execution_count": 39,
     "metadata": {},
     "output_type": "execute_result"
    },
    {
     "data": {
      "image/png": "[encoded data removed]",
      "text/plain": [
       "<Figure size 432x288 with 1 Axes>"
      ]
     },
     "metadata": {
      "needs_background": "light"
     },
     "output_type": "display_data"
    }
   ],
   "source": [
    "fig, ax = plt.subplots()\n",
    "norm.plot(ax=ax)"
   ]
  },
  {
   "cell_type": "markdown",
   "metadata": {},
   "source": [
    "For each Rupee invested in TCS and for each Rupee invested in Infosys, then we can see how it evolves over time."
   ]
  },
  {
   "cell_type": "markdown",
   "metadata": {},
   "source": [
    "calculate the return and visualize it."
   ]
  },
  {
   "cell_type": "code",
   "execution_count": 41,
   "metadata": {},
   "outputs": [],
   "source": [
    "TCS_Return = norm['TCS.NS'].iloc[-1]-1"
   ]
  },
  {
   "cell_type": "code",
   "execution_count": 46,
   "metadata": {},
   "outputs": [],
   "source": [
    "INFY_Return = norm['INFY.NS'].iloc[-1]-1"
   ]
  },
  {
   "cell_type": "markdown",
   "metadata": {},
   "source": [
    "As we have normalized data, we can get the return from the last day. We subtract 1 to get the percentage growth of the investment"
   ]
  },
  {
   "cell_type": "code",
   "execution_count": 49,
   "metadata": {},
   "outputs": [
    {
     "data": {
      "text/plain": [
       "37.68010913468218"
      ]
     },
     "execution_count": 49,
     "metadata": {},
     "output_type": "execute_result"
    }
   ],
   "source": [
    "TCS_Return "
   ]
  },
  {
   "cell_type": "code",
   "execution_count": 48,
   "metadata": {},
   "outputs": [
    {
     "data": {
      "text/plain": [
       "0.7525036731038797"
      ]
     },
     "execution_count": 48,
     "metadata": {},
     "output_type": "execute_result"
    }
   ],
   "source": [
    "INFY_Return"
   ]
  },
  {
   "cell_type": "code",
   "execution_count": 50,
   "metadata": {},
   "outputs": [
    {
     "data": {
      "text/plain": [
       "37.68010913468218"
      ]
     },
     "execution_count": 50,
     "metadata": {},
     "output_type": "execute_result"
    }
   ],
   "source": [
    "TCS_Return *100"
   ]
  },
  {
   "cell_type": "code",
   "execution_count": 51,
   "metadata": {},
   "outputs": [
    {
     "data": {
      "text/plain": [
       "75.25036731038797"
      ]
     },
     "execution_count": 51,
     "metadata": {},
     "output_type": "execute_result"
    }
   ],
   "source": [
    "INFY_Return *100"
   ]
  },
  {
   "cell_type": "markdown",
   "metadata": {},
   "source": [
    "Hence, if we invested in TCS, we would have gained 37.68% in 2020.\n",
    "While, if we invested in INFOSYS, we would have gained 75.25% in 2020"
   ]
  },
  {
   "cell_type": "code",
   "execution_count": 52,
   "metadata": {},
   "outputs": [
    {
     "data": {
      "text/plain": [
       "Text(0.5, 1.0, 'Return on Investment')"
      ]
     },
     "execution_count": 52,
     "metadata": {},
     "output_type": "execute_result"
    },
    {
     "data": {
      "image/png": "[encoded data removed]",
      "text/plain": [
       "<Figure size 432x288 with 1 Axes>"
      ]
     },
     "metadata": {
      "needs_background": "light"
     },
     "output_type": "display_data"
    }
   ],
   "source": [
    "fig,ax = plt.subplots()\n",
    "ax.bar(['TCS','INFOSYS'],[TCS_Return,INFY_Return],color=['b','r'])\n",
    "ax.set_title(\"Return on Investment\")"
   ]
  },
  {
   "cell_type": "code",
   "execution_count": null,
   "metadata": {},
   "outputs": [],
   "source": []
  },
  {
   "cell_type": "code",
   "execution_count": null,
   "metadata": {},
   "outputs": [],
   "source": []
  }
 ],
 "metadata": {
  "interpreter": {
   "hash": "1e915f0a29dc84041eaeb02b7b1a21c440e37a87b61d44d5e84a515737dc82bc"
  },
  "kernelspec": {
   "display_name": "Python 3.7.6 64-bit ('base': conda)",
   "name": "python3"
  },
  "language_info": {
   "codemirror_mode": {
    "name": "ipython",
    "version": 3
   },
   "file_extension": ".py",
   "mimetype": "text/x-python",
   "name": "python",
   "nbconvert_exporter": "python",
   "pygments_lexer": "ipython3",
   "version": "3.7.6"
  },
  "orig_nbformat": 4
 },
 "nbformat": 4,
 "nbformat_minor": 2
}
