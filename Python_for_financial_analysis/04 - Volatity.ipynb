{
 "cells": [
  {
   "cell_type": "markdown",
   "metadata": {},
   "source": [
    "Volatility is often measured as either the standard deviation or variance between returns."
   ]
  },
  {
   "cell_type": "code",
   "execution_count": 1,
   "metadata": {},
   "outputs": [],
   "source": [
    "import pandas_datareader as pdr\n",
    "import datetime as dt\n",
    "import pandas as pd\n",
    "import numpy as np"
   ]
  },
  {
   "cell_type": "markdown",
   "metadata": {},
   "source": [
    "We will calculate the log return for the period of 12 years i;e from 2010 to 16th,March,2022."
   ]
  },
  {
   "cell_type": "code",
   "execution_count": 6,
   "metadata": {},
   "outputs": [],
   "source": [
    "start = dt.datetime(2010,1,1)\n",
    "#end = dt.datetime(2022,3,1)\n",
    "data = pdr.get_data_yahoo(\"^NSEI\",start)"
   ]
  },
  {
   "cell_type": "code",
   "execution_count": 7,
   "metadata": {},
   "outputs": [
    {
     "data": {
      "text/html": [
       "<div>\n",
       "<style scoped>\n",
       "    .dataframe tbody tr th:only-of-type {\n",
       "        vertical-align: middle;\n",
       "    }\n",
       "\n",
       "    .dataframe tbody tr th {\n",
       "        vertical-align: top;\n",
       "    }\n",
       "\n",
       "    .dataframe thead th {\n",
       "        text-align: right;\n",
       "    }\n",
       "</style>\n",
       "<table border=\"1\" class=\"dataframe\">\n",
       "  <thead>\n",
       "    <tr style=\"text-align: right;\">\n",
       "      <th></th>\n",
       "      <th>High</th>\n",
       "      <th>Low</th>\n",
       "      <th>Open</th>\n",
       "      <th>Close</th>\n",
       "      <th>Volume</th>\n",
       "      <th>Adj Close</th>\n",
       "    </tr>\n",
       "    <tr>\n",
       "      <th>Date</th>\n",
       "      <th></th>\n",
       "      <th></th>\n",
       "      <th></th>\n",
       "      <th></th>\n",
       "      <th></th>\n",
       "      <th></th>\n",
       "    </tr>\n",
       "  </thead>\n",
       "  <tbody>\n",
       "    <tr>\n",
       "      <th>2010-01-04</th>\n",
       "      <td>5238.450195</td>\n",
       "      <td>5167.100098</td>\n",
       "      <td>5200.899902</td>\n",
       "      <td>5232.200195</td>\n",
       "      <td>0.0</td>\n",
       "      <td>5232.200195</td>\n",
       "    </tr>\n",
       "    <tr>\n",
       "      <th>2010-01-05</th>\n",
       "      <td>5288.350098</td>\n",
       "      <td>5242.399902</td>\n",
       "      <td>5277.149902</td>\n",
       "      <td>5277.899902</td>\n",
       "      <td>0.0</td>\n",
       "      <td>5277.899902</td>\n",
       "    </tr>\n",
       "    <tr>\n",
       "      <th>2010-01-06</th>\n",
       "      <td>5310.850098</td>\n",
       "      <td>5260.049805</td>\n",
       "      <td>5278.149902</td>\n",
       "      <td>5281.799805</td>\n",
       "      <td>0.0</td>\n",
       "      <td>5281.799805</td>\n",
       "    </tr>\n",
       "    <tr>\n",
       "      <th>2010-01-07</th>\n",
       "      <td>5302.549805</td>\n",
       "      <td>5244.750000</td>\n",
       "      <td>5281.799805</td>\n",
       "      <td>5263.100098</td>\n",
       "      <td>0.0</td>\n",
       "      <td>5263.100098</td>\n",
       "    </tr>\n",
       "    <tr>\n",
       "      <th>2010-01-08</th>\n",
       "      <td>5276.750000</td>\n",
       "      <td>5234.700195</td>\n",
       "      <td>5264.250000</td>\n",
       "      <td>5244.750000</td>\n",
       "      <td>0.0</td>\n",
       "      <td>5244.750000</td>\n",
       "    </tr>\n",
       "  </tbody>\n",
       "</table>\n",
       "</div>"
      ],
      "text/plain": [
       "                   High          Low         Open        Close  Volume  \\\n",
       "Date                                                                     \n",
       "2010-01-04  5238.450195  5167.100098  5200.899902  5232.200195     0.0   \n",
       "2010-01-05  5288.350098  5242.399902  5277.149902  5277.899902     0.0   \n",
       "2010-01-06  5310.850098  5260.049805  5278.149902  5281.799805     0.0   \n",
       "2010-01-07  5302.549805  5244.750000  5281.799805  5263.100098     0.0   \n",
       "2010-01-08  5276.750000  5234.700195  5264.250000  5244.750000     0.0   \n",
       "\n",
       "              Adj Close  \n",
       "Date                     \n",
       "2010-01-04  5232.200195  \n",
       "2010-01-05  5277.899902  \n",
       "2010-01-06  5281.799805  \n",
       "2010-01-07  5263.100098  \n",
       "2010-01-08  5244.750000  "
      ]
     },
     "execution_count": 7,
     "metadata": {},
     "output_type": "execute_result"
    }
   ],
   "source": [
    "data.head()"
   ]
  },
  {
   "cell_type": "code",
   "execution_count": 8,
   "metadata": {},
   "outputs": [
    {
     "data": {
      "text/html": [
       "<div>\n",
       "<style scoped>\n",
       "    .dataframe tbody tr th:only-of-type {\n",
       "        vertical-align: middle;\n",
       "    }\n",
       "\n",
       "    .dataframe tbody tr th {\n",
       "        vertical-align: top;\n",
       "    }\n",
       "\n",
       "    .dataframe thead th {\n",
       "        text-align: right;\n",
       "    }\n",
       "</style>\n",
       "<table border=\"1\" class=\"dataframe\">\n",
       "  <thead>\n",
       "    <tr style=\"text-align: right;\">\n",
       "      <th></th>\n",
       "      <th>High</th>\n",
       "      <th>Low</th>\n",
       "      <th>Open</th>\n",
       "      <th>Close</th>\n",
       "      <th>Volume</th>\n",
       "      <th>Adj Close</th>\n",
       "    </tr>\n",
       "    <tr>\n",
       "      <th>Date</th>\n",
       "      <th></th>\n",
       "      <th></th>\n",
       "      <th></th>\n",
       "      <th></th>\n",
       "      <th></th>\n",
       "      <th></th>\n",
       "    </tr>\n",
       "  </thead>\n",
       "  <tbody>\n",
       "    <tr>\n",
       "      <th>2022-03-09</th>\n",
       "      <td>16418.050781</td>\n",
       "      <td>15990.000000</td>\n",
       "      <td>16078.000000</td>\n",
       "      <td>16345.349609</td>\n",
       "      <td>462200.0</td>\n",
       "      <td>16345.349609</td>\n",
       "    </tr>\n",
       "    <tr>\n",
       "      <th>2022-03-10</th>\n",
       "      <td>16757.300781</td>\n",
       "      <td>16447.900391</td>\n",
       "      <td>16757.099609</td>\n",
       "      <td>16594.900391</td>\n",
       "      <td>486400.0</td>\n",
       "      <td>16594.900391</td>\n",
       "    </tr>\n",
       "    <tr>\n",
       "      <th>2022-03-11</th>\n",
       "      <td>16694.400391</td>\n",
       "      <td>16470.900391</td>\n",
       "      <td>16528.800781</td>\n",
       "      <td>16630.449219</td>\n",
       "      <td>343700.0</td>\n",
       "      <td>16630.449219</td>\n",
       "    </tr>\n",
       "    <tr>\n",
       "      <th>2022-03-14</th>\n",
       "      <td>16887.949219</td>\n",
       "      <td>16606.500000</td>\n",
       "      <td>16633.699219</td>\n",
       "      <td>16871.300781</td>\n",
       "      <td>314700.0</td>\n",
       "      <td>16871.300781</td>\n",
       "    </tr>\n",
       "    <tr>\n",
       "      <th>2022-03-16</th>\n",
       "      <td>16942.599609</td>\n",
       "      <td>16837.849609</td>\n",
       "      <td>16876.650391</td>\n",
       "      <td>16915.949219</td>\n",
       "      <td>0.0</td>\n",
       "      <td>16915.949219</td>\n",
       "    </tr>\n",
       "  </tbody>\n",
       "</table>\n",
       "</div>"
      ],
      "text/plain": [
       "                    High           Low          Open         Close    Volume  \\\n",
       "Date                                                                           \n",
       "2022-03-09  16418.050781  15990.000000  16078.000000  16345.349609  462200.0   \n",
       "2022-03-10  16757.300781  16447.900391  16757.099609  16594.900391  486400.0   \n",
       "2022-03-11  16694.400391  16470.900391  16528.800781  16630.449219  343700.0   \n",
       "2022-03-14  16887.949219  16606.500000  16633.699219  16871.300781  314700.0   \n",
       "2022-03-16  16942.599609  16837.849609  16876.650391  16915.949219       0.0   \n",
       "\n",
       "               Adj Close  \n",
       "Date                      \n",
       "2022-03-09  16345.349609  \n",
       "2022-03-10  16594.900391  \n",
       "2022-03-11  16630.449219  \n",
       "2022-03-14  16871.300781  \n",
       "2022-03-16  16915.949219  "
      ]
     },
     "execution_count": 8,
     "metadata": {},
     "output_type": "execute_result"
    }
   ],
   "source": [
    "data.tail()"
   ]
  },
  {
   "cell_type": "code",
   "execution_count": 10,
   "metadata": {},
   "outputs": [],
   "source": [
    "data['Log Returns'] = np.log(data['Adj Close']/data[\"Adj Close\"].shift())"
   ]
  },
  {
   "cell_type": "code",
   "execution_count": 12,
   "metadata": {},
   "outputs": [
    {
     "data": {
      "text/plain": [
       "3.2330470141232186"
      ]
     },
     "execution_count": 12,
     "metadata": {},
     "output_type": "execute_result"
    }
   ],
   "source": [
    "data['Adj Close'].iloc[-1]/data['Adj Close'].iloc[0]"
   ]
  },
  {
   "cell_type": "markdown",
   "metadata": {},
   "source": [
    "this above cell method is a simple method to calculate the return."
   ]
  },
  {
   "cell_type": "code",
   "execution_count": 13,
   "metadata": {},
   "outputs": [
    {
     "data": {
      "text/plain": [
       "1.1734250405872133"
      ]
     },
     "execution_count": 13,
     "metadata": {},
     "output_type": "execute_result"
    }
   ],
   "source": [
    "data['Log Returns'].sum()"
   ]
  },
  {
   "cell_type": "code",
   "execution_count": 14,
   "metadata": {},
   "outputs": [
    {
     "data": {
      "text/plain": [
       "3.23304701412322"
      ]
     },
     "execution_count": 14,
     "metadata": {},
     "output_type": "execute_result"
    }
   ],
   "source": [
    "np.exp(data['Log Returns'].sum())"
   ]
  },
  {
   "cell_type": "markdown",
   "metadata": {},
   "source": [
    "We can add the daily log returns together and get the same return."
   ]
  },
  {
   "cell_type": "markdown",
   "metadata": {},
   "source": [
    "Volatility calculation"
   ]
  },
  {
   "cell_type": "code",
   "execution_count": 18,
   "metadata": {},
   "outputs": [],
   "source": [
    "volatility = data['Log Returns'].std()*(252**0.5)"
   ]
  },
  {
   "cell_type": "code",
   "execution_count": 19,
   "metadata": {},
   "outputs": [
    {
     "data": {
      "text/plain": [
       "0.17567614448241944"
      ]
     },
     "execution_count": 19,
     "metadata": {},
     "output_type": "execute_result"
    }
   ],
   "source": [
    "volatility"
   ]
  },
  {
   "cell_type": "markdown",
   "metadata": {},
   "source": [
    "How to interpret the result?\n",
    "It is a comparison. The lower the better.\n",
    "Volatility should be lower."
   ]
  },
  {
   "cell_type": "markdown",
   "metadata": {},
   "source": [
    "The goal is to maximize the return (CAGR), and minimize the maximum drawdown and volatility"
   ]
  },
  {
   "cell_type": "markdown",
   "metadata": {},
   "source": [
    "Project – Visualize the volatility of the Nifty50 Index."
   ]
  },
  {
   "cell_type": "markdown",
   "metadata": {},
   "source": [
    "In this project we will visualize the volatility of the Sensex."
   ]
  },
  {
   "cell_type": "code",
   "execution_count": 20,
   "metadata": {},
   "outputs": [],
   "source": [
    "import matplotlib.pyplot as plt\n",
    "%matplotlib inline\n",
    "\n"
   ]
  },
  {
   "cell_type": "code",
   "execution_count": 22,
   "metadata": {},
   "outputs": [],
   "source": [
    "str_vol = str(round(volatility,3)*100)"
   ]
  },
  {
   "cell_type": "code",
   "execution_count": 23,
   "metadata": {},
   "outputs": [
    {
     "data": {
      "text/plain": [
       "'17.599999999999998'"
      ]
     },
     "execution_count": 23,
     "metadata": {},
     "output_type": "execute_result"
    }
   ],
   "source": [
    "str_vol"
   ]
  },
  {
   "cell_type": "code",
   "execution_count": 26,
   "metadata": {},
   "outputs": [
    {
     "data": {
      "text/plain": [
       "Text(0.5, 1.0, 'Historic Volatility of Nifty50 Index (17.599999999999998%)')"
      ]
     },
     "execution_count": 26,
     "metadata": {},
     "output_type": "execute_result"
    },
    {
     "data": {
      "image/png": "[encoded data removed]",
      "text/plain": [
       "<Figure size 432x288 with 1 Axes>"
      ]
     },
     "metadata": {
      "needs_background": "light"
     },
     "output_type": "display_data"
    }
   ],
   "source": [
    "fig,ax = plt.subplots()\n",
    "data['Log Returns'].hist(ax=ax,bins=50,alpha=0.6,color='b')\n",
    "ax.set_xlabel('Log returns of the stock price')\n",
    "ax.set_ylabel('Frequency of Log Returns')\n",
    "ax.set_title('Historic Volatility of Nifty50 Index ('+ str_vol+'%)')"
   ]
  },
  {
   "cell_type": "markdown",
   "metadata": {},
   "source": [
    "The volatility says something about how these bins are spread and how close the majority of data is to 0.0.\n",
    "\n",
    "\n",
    "We are looking at the daily log return here. The higher the daily log return, the more volatile it is. Hence, if we have a log of values that are far from 0.0, then it is volatile. If all values are close to 0.0, it is not as volatile."
   ]
  },
  {
   "cell_type": "markdown",
   "metadata": {},
   "source": [
    "The volatility of an investment is a measure of risk."
   ]
  },
  {
   "cell_type": "markdown",
   "metadata": {},
   "source": [
    "\n",
    "We now have the tools to evaluate an investment strategy. The return (CAGR), which should be optimized, the maximum drawdown and volatility, which should be minimized."
   ]
  }
 ],
 "metadata": {
  "interpreter": {
   "hash": "1e915f0a29dc84041eaeb02b7b1a21c440e37a87b61d44d5e84a515737dc82bc"
  },
  "kernelspec": {
   "display_name": "Python 3.7.6 ('base')",
   "language": "python",
   "name": "python3"
  },
  "language_info": {
   "codemirror_mode": {
    "name": "ipython",
    "version": 3
   },
   "file_extension": ".py",
   "mimetype": "text/x-python",
   "name": "python",
   "nbconvert_exporter": "python",
   "pygments_lexer": "ipython3",
   "version": "3.7.6"
  },
  "orig_nbformat": 4
 },
 "nbformat": 4,
 "nbformat_minor": 2
}
