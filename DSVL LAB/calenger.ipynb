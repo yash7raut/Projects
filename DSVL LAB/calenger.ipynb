{
 "cells": [
  {
   "cell_type": "code",
   "execution_count": 2,
   "metadata": {},
   "outputs": [
    {
     "name": "stdout",
     "output_type": "stream",
     "text": [
      "                                    2022\n",
      "\n",
      "      January                     February                     March\n",
      "Mo Tu We Th Fr Sa Su        Mo Tu We Th Fr Sa Su        Mo Tu We Th Fr Sa Su\n",
      "                1  2            1  2  3  4  5  6            1  2  3  4  5  6\n",
      " 3  4  5  6  7  8  9         7  8  9 10 11 12 13         7  8  9 10 11 12 13\n",
      "10 11 12 13 14 15 16        14 15 16 17 18 19 20        14 15 16 17 18 19 20\n",
      "17 18 19 20 21 22 23        21 22 23 24 25 26 27        21 22 23 24 25 26 27\n",
      "24 25 26 27 28 29 30        28                          28 29 30 31\n",
      "31\n",
      "\n",
      "       April                        May                         June\n",
      "Mo Tu We Th Fr Sa Su        Mo Tu We Th Fr Sa Su        Mo Tu We Th Fr Sa Su\n",
      "             1  2  3                           1               1  2  3  4  5\n",
      " 4  5  6  7  8  9 10         2  3  4  5  6  7  8         6  7  8  9 10 11 12\n",
      "11 12 13 14 15 16 17         9 10 11 12 13 14 15        13 14 15 16 17 18 19\n",
      "18 19 20 21 22 23 24        16 17 18 19 20 21 22        20 21 22 23 24 25 26\n",
      "25 26 27 28 29 30           23 24 25 26 27 28 29        27 28 29 30\n",
      "                            30 31\n",
      "\n",
      "        July                       August                    September\n",
      "Mo Tu We Th Fr Sa Su        Mo Tu We Th Fr Sa Su        Mo Tu We Th Fr Sa Su\n",
      "             1  2  3         1  2  3  4  5  6  7                  1  2  3  4\n",
      " 4  5  6  7  8  9 10         8  9 10 11 12 13 14         5  6  7  8  9 10 11\n",
      "11 12 13 14 15 16 17        15 16 17 18 19 20 21        12 13 14 15 16 17 18\n",
      "18 19 20 21 22 23 24        22 23 24 25 26 27 28        19 20 21 22 23 24 25\n",
      "25 26 27 28 29 30 31        29 30 31                    26 27 28 29 30\n",
      "\n",
      "      October                     November                    December\n",
      "Mo Tu We Th Fr Sa Su        Mo Tu We Th Fr Sa Su        Mo Tu We Th Fr Sa Su\n",
      "                1  2            1  2  3  4  5  6                  1  2  3  4\n",
      " 3  4  5  6  7  8  9         7  8  9 10 11 12 13         5  6  7  8  9 10 11\n",
      "10 11 12 13 14 15 16        14 15 16 17 18 19 20        12 13 14 15 16 17 18\n",
      "17 18 19 20 21 22 23        21 22 23 24 25 26 27        19 20 21 22 23 24 25\n",
      "24 25 26 27 28 29 30        28 29 30                    26 27 28 29 30 31\n",
      "31\n",
      "\n"
     ]
    }
   ],
   "source": [
    "from calendar import *\n",
    "year = int(input('Enter year:'))\n",
    "print(calendar(year, 2, 1, 8, 3))"
   ]
  }
 ],
 "metadata": {
  "interpreter": {
   "hash": "1e915f0a29dc84041eaeb02b7b1a21c440e37a87b61d44d5e84a515737dc82bc"
  },
  "kernelspec": {
   "display_name": "Python 3.7.6 64-bit ('base': conda)",
   "language": "python",
   "name": "python3"
  },
  "language_info": {
   "codemirror_mode": {
    "name": "ipython",
    "version": 3
   },
   "file_extension": ".py",
   "mimetype": "text/x-python",
   "name": "python",
   "nbconvert_exporter": "python",
   "pygments_lexer": "ipython3",
   "version": "3.7.6"
  },
  "orig_nbformat": 4
 },
 "nbformat": 4,
 "nbformat_minor": 2
}
