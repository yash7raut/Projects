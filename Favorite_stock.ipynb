{
 "cells": [
  {
   "cell_type": "markdown",
   "metadata": {},
   "source": [
    "This project helps you find out how much money you would have made on your favorite stock if you invested a certain amount in it just before the beginning of the Pandemic."
   ]
  },
  {
   "cell_type": "markdown",
   "metadata": {},
   "source": [
    "Importing packages"
   ]
  },
  {
   "cell_type": "code",
   "execution_count": 71,
   "metadata": {},
   "outputs": [],
   "source": [
    "import pandas as pd\n",
    "import yfinance as yf\n"
   ]
  },
  {
   "cell_type": "markdown",
   "metadata": {},
   "source": [
    "Get the historical data"
   ]
  },
  {
   "cell_type": "code",
   "execution_count": 72,
   "metadata": {},
   "outputs": [],
   "source": [
    "stock = yf.Ticker('TCS.NS')\n",
    "hist = stock.history(period='max')"
   ]
  },
  {
   "cell_type": "code",
   "execution_count": 73,
   "metadata": {},
   "outputs": [
    {
     "data": {
      "text/html": [
       "<div>\n",
       "<style scoped>\n",
       "    .dataframe tbody tr th:only-of-type {\n",
       "        vertical-align: middle;\n",
       "    }\n",
       "\n",
       "    .dataframe tbody tr th {\n",
       "        vertical-align: top;\n",
       "    }\n",
       "\n",
       "    .dataframe thead th {\n",
       "        text-align: right;\n",
       "    }\n",
       "</style>\n",
       "<table border=\"1\" class=\"dataframe\">\n",
       "  <thead>\n",
       "    <tr style=\"text-align: right;\">\n",
       "      <th></th>\n",
       "      <th>Open</th>\n",
       "      <th>High</th>\n",
       "      <th>Low</th>\n",
       "      <th>Close</th>\n",
       "      <th>Volume</th>\n",
       "      <th>Dividends</th>\n",
       "      <th>Stock Splits</th>\n",
       "    </tr>\n",
       "    <tr>\n",
       "      <th>Date</th>\n",
       "      <th></th>\n",
       "      <th></th>\n",
       "      <th></th>\n",
       "      <th></th>\n",
       "      <th></th>\n",
       "      <th></th>\n",
       "      <th></th>\n",
       "    </tr>\n",
       "  </thead>\n",
       "  <tbody>\n",
       "    <tr>\n",
       "      <th>2002-08-12</th>\n",
       "      <td>28.688598</td>\n",
       "      <td>29.633156</td>\n",
       "      <td>28.688598</td>\n",
       "      <td>29.410908</td>\n",
       "      <td>212976</td>\n",
       "      <td>0.0</td>\n",
       "      <td>0.0</td>\n",
       "    </tr>\n",
       "    <tr>\n",
       "      <th>2002-08-13</th>\n",
       "      <td>29.447960</td>\n",
       "      <td>29.920239</td>\n",
       "      <td>28.799735</td>\n",
       "      <td>29.012722</td>\n",
       "      <td>153576</td>\n",
       "      <td>0.0</td>\n",
       "      <td>0.0</td>\n",
       "    </tr>\n",
       "    <tr>\n",
       "      <th>2002-08-14</th>\n",
       "      <td>29.077540</td>\n",
       "      <td>29.077540</td>\n",
       "      <td>26.466116</td>\n",
       "      <td>27.012480</td>\n",
       "      <td>822776</td>\n",
       "      <td>0.0</td>\n",
       "      <td>0.0</td>\n",
       "    </tr>\n",
       "    <tr>\n",
       "      <th>2002-08-15</th>\n",
       "      <td>27.012480</td>\n",
       "      <td>27.012480</td>\n",
       "      <td>27.012480</td>\n",
       "      <td>27.012480</td>\n",
       "      <td>0</td>\n",
       "      <td>0.0</td>\n",
       "      <td>0.0</td>\n",
       "    </tr>\n",
       "    <tr>\n",
       "      <th>2002-08-16</th>\n",
       "      <td>26.873581</td>\n",
       "      <td>28.151510</td>\n",
       "      <td>26.484644</td>\n",
       "      <td>26.947662</td>\n",
       "      <td>811856</td>\n",
       "      <td>0.0</td>\n",
       "      <td>0.0</td>\n",
       "    </tr>\n",
       "    <tr>\n",
       "      <th>...</th>\n",
       "      <td>...</td>\n",
       "      <td>...</td>\n",
       "      <td>...</td>\n",
       "      <td>...</td>\n",
       "      <td>...</td>\n",
       "      <td>...</td>\n",
       "      <td>...</td>\n",
       "    </tr>\n",
       "    <tr>\n",
       "      <th>2022-05-06</th>\n",
       "      <td>3459.000000</td>\n",
       "      <td>3474.500000</td>\n",
       "      <td>3424.500000</td>\n",
       "      <td>3432.600098</td>\n",
       "      <td>2010812</td>\n",
       "      <td>0.0</td>\n",
       "      <td>0.0</td>\n",
       "    </tr>\n",
       "    <tr>\n",
       "      <th>2022-05-09</th>\n",
       "      <td>3398.000000</td>\n",
       "      <td>3456.000000</td>\n",
       "      <td>3346.850098</td>\n",
       "      <td>3445.100098</td>\n",
       "      <td>2481830</td>\n",
       "      <td>0.0</td>\n",
       "      <td>0.0</td>\n",
       "    </tr>\n",
       "    <tr>\n",
       "      <th>2022-05-10</th>\n",
       "      <td>3434.000000</td>\n",
       "      <td>3464.800049</td>\n",
       "      <td>3422.000000</td>\n",
       "      <td>3438.750000</td>\n",
       "      <td>1622685</td>\n",
       "      <td>0.0</td>\n",
       "      <td>0.0</td>\n",
       "    </tr>\n",
       "    <tr>\n",
       "      <th>2022-05-11</th>\n",
       "      <td>3435.000000</td>\n",
       "      <td>3448.449951</td>\n",
       "      <td>3382.149902</td>\n",
       "      <td>3412.000000</td>\n",
       "      <td>1841769</td>\n",
       "      <td>0.0</td>\n",
       "      <td>0.0</td>\n",
       "    </tr>\n",
       "    <tr>\n",
       "      <th>2022-05-12</th>\n",
       "      <td>3378.000000</td>\n",
       "      <td>3449.699951</td>\n",
       "      <td>3350.100098</td>\n",
       "      <td>3408.649902</td>\n",
       "      <td>2806399</td>\n",
       "      <td>0.0</td>\n",
       "      <td>0.0</td>\n",
       "    </tr>\n",
       "  </tbody>\n",
       "</table>\n",
       "<p>4906 rows × 7 columns</p>\n",
       "</div>"
      ],
      "text/plain": [
       "                   Open         High          Low        Close   Volume  \\\n",
       "Date                                                                      \n",
       "2002-08-12    28.688598    29.633156    28.688598    29.410908   212976   \n",
       "2002-08-13    29.447960    29.920239    28.799735    29.012722   153576   \n",
       "2002-08-14    29.077540    29.077540    26.466116    27.012480   822776   \n",
       "2002-08-15    27.012480    27.012480    27.012480    27.012480        0   \n",
       "2002-08-16    26.873581    28.151510    26.484644    26.947662   811856   \n",
       "...                 ...          ...          ...          ...      ...   \n",
       "2022-05-06  3459.000000  3474.500000  3424.500000  3432.600098  2010812   \n",
       "2022-05-09  3398.000000  3456.000000  3346.850098  3445.100098  2481830   \n",
       "2022-05-10  3434.000000  3464.800049  3422.000000  3438.750000  1622685   \n",
       "2022-05-11  3435.000000  3448.449951  3382.149902  3412.000000  1841769   \n",
       "2022-05-12  3378.000000  3449.699951  3350.100098  3408.649902  2806399   \n",
       "\n",
       "            Dividends  Stock Splits  \n",
       "Date                                 \n",
       "2002-08-12        0.0           0.0  \n",
       "2002-08-13        0.0           0.0  \n",
       "2002-08-14        0.0           0.0  \n",
       "2002-08-15        0.0           0.0  \n",
       "2002-08-16        0.0           0.0  \n",
       "...               ...           ...  \n",
       "2022-05-06        0.0           0.0  \n",
       "2022-05-09        0.0           0.0  \n",
       "2022-05-10        0.0           0.0  \n",
       "2022-05-11        0.0           0.0  \n",
       "2022-05-12        0.0           0.0  \n",
       "\n",
       "[4906 rows x 7 columns]"
      ]
     },
     "execution_count": 73,
     "metadata": {},
     "output_type": "execute_result"
    }
   ],
   "source": [
    "hist"
   ]
  },
  {
   "cell_type": "markdown",
   "metadata": {},
   "source": [
    "Let's assume that we invest 100000/- (One Lakh Rupees)"
   ]
  },
  {
   "cell_type": "code",
   "execution_count": 74,
   "metadata": {},
   "outputs": [],
   "source": [
    "invt_amt = 100000"
   ]
  },
  {
   "cell_type": "markdown",
   "metadata": {},
   "source": [
    "let's assume that we start our investment journey on the day when Covid was declared as a Pandemic by WHO."
   ]
  },
  {
   "cell_type": "code",
   "execution_count": 75,
   "metadata": {},
   "outputs": [],
   "source": [
    "invt_date = '2020-03-09'\n",
    "exists = invt_date in hist.index\n",
    "if exists == False:\n",
    "    print('Enter a value which is in the dataframe')\n"
   ]
  },
  {
   "cell_type": "markdown",
   "metadata": {},
   "source": [
    "Price of the stock on 09-03-2020"
   ]
  },
  {
   "cell_type": "code",
   "execution_count": 76,
   "metadata": {},
   "outputs": [
    {
     "data": {
      "text/plain": [
       "1915.32"
      ]
     },
     "execution_count": 76,
     "metadata": {},
     "output_type": "execute_result"
    }
   ],
   "source": [
    "choosen_price = round(hist.loc[invt_date,:]['Close'],2)\n",
    "choosen_price"
   ]
  },
  {
   "cell_type": "markdown",
   "metadata": {},
   "source": [
    "Number of stocks we can buy with the given amount."
   ]
  },
  {
   "cell_type": "code",
   "execution_count": 77,
   "metadata": {},
   "outputs": [
    {
     "data": {
      "text/plain": [
       "52.21"
      ]
     },
     "execution_count": 77,
     "metadata": {},
     "output_type": "execute_result"
    }
   ],
   "source": [
    "nums_stock = round(float(invt_amt)/choosen_price,2)\n",
    "nums_stock"
   ]
  },
  {
   "cell_type": "markdown",
   "metadata": {},
   "source": [
    "Current Stock price of the tick."
   ]
  },
  {
   "cell_type": "code",
   "execution_count": 78,
   "metadata": {},
   "outputs": [
    {
     "data": {
      "text/plain": [
       "3408.65"
      ]
     },
     "execution_count": 78,
     "metadata": {},
     "output_type": "execute_result"
    }
   ],
   "source": [
    "curr_price = round(hist[\"Close\"].iloc[-1],2)\n",
    "curr_price"
   ]
  },
  {
   "cell_type": "markdown",
   "metadata": {},
   "source": [
    "Current Value of your Portfolio."
   ]
  },
  {
   "cell_type": "code",
   "execution_count": 79,
   "metadata": {},
   "outputs": [
    {
     "name": "stdout",
     "output_type": "stream",
     "text": [
      "Current Value of your Portfolio: 177965.62\n"
     ]
    }
   ],
   "source": [
    "stock_valu = round(nums_stock * curr_price,2)\n",
    "print('Current Value of your Portfolio:',stock_valu)"
   ]
  },
  {
   "cell_type": "markdown",
   "metadata": {},
   "source": [
    "The amount of Profit you Made."
   ]
  },
  {
   "cell_type": "code",
   "execution_count": 80,
   "metadata": {},
   "outputs": [
    {
     "name": "stdout",
     "output_type": "stream",
     "text": [
      "You would have gained:  77965.62\n"
     ]
    }
   ],
   "source": [
    "net  = round(stock_valu - invt_amt,2)\n",
    "if stock_valu < float(invt_amt):\n",
    "    print('You would have lost: ', net)\n",
    "else:\n",
    "   print('You would have gained: ', net)"
   ]
  }
 ],
 "metadata": {
  "interpreter": {
   "hash": "dc07d24e2f18896857f0b2a651fe84ba40ce7b297e58d8804a308c8039f752a6"
  },
  "kernelspec": {
   "display_name": "Python 3.7.6 ('base')",
   "language": "python",
   "name": "python3"
  },
  "language_info": {
   "codemirror_mode": {
    "name": "ipython",
    "version": 3
   },
   "file_extension": ".py",
   "mimetype": "text/x-python",
   "name": "python",
   "nbconvert_exporter": "python",
   "pygments_lexer": "ipython3",
   "version": "3.7.6"
  },
  "orig_nbformat": 4
 },
 "nbformat": 4,
 "nbformat_minor": 2
}
